{
  "cells": [
    {
      "cell_type": "code",
      "execution_count": null,
      "metadata": {
        "colab": {
          "base_uri": "https://localhost:8080/"
        },
        "collapsed": true,
        "id": "fogDFJI54Rq5",
        "outputId": "a1bdc771-f928-4a16-eabf-47da4b7a2402"
      },
      "outputs": [
        {
          "output_type": "stream",
          "name": "stdout",
          "text": [
            "Requirement already satisfied: tensorflow in /usr/local/lib/python3.10/dist-packages (2.17.1)\n",
            "Requirement already satisfied: absl-py>=1.0.0 in /usr/local/lib/python3.10/dist-packages (from tensorflow) (1.4.0)\n",
            "Requirement already satisfied: astunparse>=1.6.0 in /usr/local/lib/python3.10/dist-packages (from tensorflow) (1.6.3)\n",
            "Requirement already satisfied: flatbuffers>=24.3.25 in /usr/local/lib/python3.10/dist-packages (from tensorflow) (24.3.25)\n",
            "Requirement already satisfied: gast!=0.5.0,!=0.5.1,!=0.5.2,>=0.2.1 in /usr/local/lib/python3.10/dist-packages (from tensorflow) (0.6.0)\n",
            "Requirement already satisfied: google-pasta>=0.1.1 in /usr/local/lib/python3.10/dist-packages (from tensorflow) (0.2.0)\n",
            "Requirement already satisfied: h5py>=3.10.0 in /usr/local/lib/python3.10/dist-packages (from tensorflow) (3.12.1)\n",
            "Requirement already satisfied: libclang>=13.0.0 in /usr/local/lib/python3.10/dist-packages (from tensorflow) (18.1.1)\n",
            "Requirement already satisfied: ml-dtypes<0.5.0,>=0.3.1 in /usr/local/lib/python3.10/dist-packages (from tensorflow) (0.4.1)\n",
            "Requirement already satisfied: opt-einsum>=2.3.2 in /usr/local/lib/python3.10/dist-packages (from tensorflow) (3.4.0)\n",
            "Requirement already satisfied: packaging in /usr/local/lib/python3.10/dist-packages (from tensorflow) (24.2)\n",
            "Requirement already satisfied: protobuf!=4.21.0,!=4.21.1,!=4.21.2,!=4.21.3,!=4.21.4,!=4.21.5,<5.0.0dev,>=3.20.3 in /usr/local/lib/python3.10/dist-packages (from tensorflow) (4.25.5)\n",
            "Requirement already satisfied: requests<3,>=2.21.0 in /usr/local/lib/python3.10/dist-packages (from tensorflow) (2.32.3)\n",
            "Requirement already satisfied: setuptools in /usr/local/lib/python3.10/dist-packages (from tensorflow) (75.1.0)\n",
            "Requirement already satisfied: six>=1.12.0 in /usr/local/lib/python3.10/dist-packages (from tensorflow) (1.16.0)\n",
            "Requirement already satisfied: termcolor>=1.1.0 in /usr/local/lib/python3.10/dist-packages (from tensorflow) (2.5.0)\n",
            "Requirement already satisfied: typing-extensions>=3.6.6 in /usr/local/lib/python3.10/dist-packages (from tensorflow) (4.12.2)\n",
            "Requirement already satisfied: wrapt>=1.11.0 in /usr/local/lib/python3.10/dist-packages (from tensorflow) (1.16.0)\n",
            "Requirement already satisfied: grpcio<2.0,>=1.24.3 in /usr/local/lib/python3.10/dist-packages (from tensorflow) (1.68.0)\n",
            "Requirement already satisfied: tensorboard<2.18,>=2.17 in /usr/local/lib/python3.10/dist-packages (from tensorflow) (2.17.1)\n",
            "Requirement already satisfied: keras>=3.2.0 in /usr/local/lib/python3.10/dist-packages (from tensorflow) (3.5.0)\n",
            "Requirement already satisfied: tensorflow-io-gcs-filesystem>=0.23.1 in /usr/local/lib/python3.10/dist-packages (from tensorflow) (0.37.1)\n",
            "Requirement already satisfied: numpy<2.0.0,>=1.23.5 in /usr/local/lib/python3.10/dist-packages (from tensorflow) (1.26.4)\n",
            "Requirement already satisfied: wheel<1.0,>=0.23.0 in /usr/local/lib/python3.10/dist-packages (from astunparse>=1.6.0->tensorflow) (0.45.0)\n",
            "Requirement already satisfied: rich in /usr/local/lib/python3.10/dist-packages (from keras>=3.2.0->tensorflow) (13.9.4)\n",
            "Requirement already satisfied: namex in /usr/local/lib/python3.10/dist-packages (from keras>=3.2.0->tensorflow) (0.0.8)\n",
            "Requirement already satisfied: optree in /usr/local/lib/python3.10/dist-packages (from keras>=3.2.0->tensorflow) (0.13.1)\n",
            "Requirement already satisfied: charset-normalizer<4,>=2 in /usr/local/lib/python3.10/dist-packages (from requests<3,>=2.21.0->tensorflow) (3.4.0)\n",
            "Requirement already satisfied: idna<4,>=2.5 in /usr/local/lib/python3.10/dist-packages (from requests<3,>=2.21.0->tensorflow) (3.10)\n",
            "Requirement already satisfied: urllib3<3,>=1.21.1 in /usr/local/lib/python3.10/dist-packages (from requests<3,>=2.21.0->tensorflow) (2.2.3)\n",
            "Requirement already satisfied: certifi>=2017.4.17 in /usr/local/lib/python3.10/dist-packages (from requests<3,>=2.21.0->tensorflow) (2024.8.30)\n",
            "Requirement already satisfied: markdown>=2.6.8 in /usr/local/lib/python3.10/dist-packages (from tensorboard<2.18,>=2.17->tensorflow) (3.7)\n",
            "Requirement already satisfied: tensorboard-data-server<0.8.0,>=0.7.0 in /usr/local/lib/python3.10/dist-packages (from tensorboard<2.18,>=2.17->tensorflow) (0.7.2)\n",
            "Requirement already satisfied: werkzeug>=1.0.1 in /usr/local/lib/python3.10/dist-packages (from tensorboard<2.18,>=2.17->tensorflow) (3.1.3)\n",
            "Requirement already satisfied: MarkupSafe>=2.1.1 in /usr/local/lib/python3.10/dist-packages (from werkzeug>=1.0.1->tensorboard<2.18,>=2.17->tensorflow) (3.0.2)\n",
            "Requirement already satisfied: markdown-it-py>=2.2.0 in /usr/local/lib/python3.10/dist-packages (from rich->keras>=3.2.0->tensorflow) (3.0.0)\n",
            "Requirement already satisfied: pygments<3.0.0,>=2.13.0 in /usr/local/lib/python3.10/dist-packages (from rich->keras>=3.2.0->tensorflow) (2.18.0)\n",
            "Requirement already satisfied: mdurl~=0.1 in /usr/local/lib/python3.10/dist-packages (from markdown-it-py>=2.2.0->rich->keras>=3.2.0->tensorflow) (0.1.2)\n"
          ]
        }
      ],
      "source": [
        "!pip install tensorflow"
      ]
    },
    {
      "cell_type": "code",
      "execution_count": null,
      "metadata": {
        "colab": {
          "base_uri": "https://localhost:8080/"
        },
        "id": "SBL0hS7qdQjm",
        "outputId": "7864b518-9797-409b-e182-bc75d60352fe",
        "collapsed": true
      },
      "outputs": [
        {
          "output_type": "stream",
          "name": "stdout",
          "text": [
            "Mounted at /content/drive\n"
          ]
        }
      ],
      "source": [
        "from google.colab import drive\n",
        "drive.mount('/content/drive')"
      ]
    },
    {
      "cell_type": "markdown",
      "source": [
        "# ***Tugas UTS***"
      ],
      "metadata": {
        "id": "qBRPSOpYKaMx"
      }
    },
    {
      "cell_type": "markdown",
      "source": [
        "Metode CNN (Convolutional Neural Network) untuk klasifikasi citra antara 2 gaya arsitektur bangunan yaitu Baroque dan Modernist. Gaya arsitektur Baroque adalah gaya arsitektur yang dikenal dengan detail ornamen yang rumit, elemen artistik yang mewah, dan dekorasi yang dramatis. Sedangkan gaya arsitektur Modernist adalah gaya arsitektur yang lebih minimalis, fokus pada fungsi, penggunaan bahan modern, dan estetika geometris. Diharapkan metode CNN dapat mengidentifikasikan sebuah citra bangunan termasuk kedalam gaya arsitektur banguna baroque atau Modernist."
      ],
      "metadata": {
        "id": "54-zJDQlE11y"
      }
    },
    {
      "cell_type": "markdown",
      "source": [
        "Dataset yang digunakan adalah dataset arsitektur bangunan yaitu Architectural Styles Periods Dataset yang tersedia di Kaggle milik Gustavo A Chavez.\n",
        "Link : https://www.kaggle.com/datasets/gustavoachavez/architectural-styles-periods-dataset/data\n",
        "\n",
        "Dataset ini berisi gambar-gambar arsitektur yang dikategorikan berdasarkan gaya arsitektur, terdapat beberapa class namun untuk project ini diambil 2 class saja yaitu:\n",
        "\n",
        "Baroque: Gaya arsitektur dengan ornamen rumit dan dramatis.\n",
        "\n",
        "Modernist: Gaya arsitektur dengan pendekatan minimalis dan penggunaan bentuk geometris.\n",
        "\n",
        "Jumlah Data Awal:\n",
        "\n",
        "Baroque: 1079 gambar.\n",
        "\n",
        "Modernist: 1867 gambar.\n",
        "\n",
        "Masalah Data: Dataset tidak seimbang (imbalance data) karena jumlah gambar class Modernist lebih banyak dibandingkan class Baroque.\n"
      ],
      "metadata": {
        "id": "wHfpBfa7guV4"
      }
    },
    {
      "cell_type": "markdown",
      "source": [
        "Dilakukan 2 pendekatan untuk mengatasi masalah data yang imbalace.\n",
        "\n",
        "Pendekatan Preprocessing:\n",
        "\n",
        "Pendekatan 1: Menyamakan jumlah data kedua class (Baroque dan Modernist) menjadi 1079 gambar (class Baroque dengan dataset terkecil) dengan pengambilan sampel acak dari class Modernist.\n",
        "\n",
        "Pendekatan 2: Membiarkan jumlah data Modernist tetap lebih banyak pada data training, kemudian melakukan proses augmentasi pada data training untuk class Baroque. Dengan data validation dan data testing seiimbang untuk kedua class tanpa proses augmentasi.\n"
      ],
      "metadata": {
        "id": "44c6Z1Rvg9e8"
      }
    },
    {
      "cell_type": "markdown",
      "metadata": {
        "id": "zxU8fB5P3vFo"
      },
      "source": [
        "# Pendekatan 1: Sampling dataset modernist"
      ]
    },
    {
      "cell_type": "code",
      "execution_count": null,
      "metadata": {
        "id": "h1YayP-x4b0g"
      },
      "outputs": [],
      "source": [
        "import os\n",
        "import random\n",
        "import shutil\n",
        "\n",
        "# Path dataset\n",
        "dataset_path = '/content/drive/MyDrive/Colab Notebooks/Colab_DL/ArchitecturalStylesDataset'\n",
        "balanced_dataset_path = '/content/drive/MyDrive/Colab Notebooks/Colab_DL/BalancedSampleDataset'\n",
        "\n",
        "# Membuat direktori baru untuk balanced dataset\n",
        "os.makedirs(balanced_dataset_path, exist_ok=True)\n",
        "for class_name in ['Baroque', 'Modernist']:\n",
        "    os.makedirs(os.path.join(balanced_dataset_path, class_name), exist_ok=True)\n",
        "\n",
        "# Fungsi untuk menyalin data ke folder baru\n",
        "def balance_by_sampling(original_dir, target_dir, max_samples):\n",
        "    for class_name in os.listdir(original_dir):\n",
        "        class_dir = os.path.join(original_dir, class_name)\n",
        "        target_class_dir = os.path.join(target_dir, class_name)\n",
        "\n",
        "        if class_name == 'Modernist':\n",
        "            # Sampling acak sejumlah max_samples\n",
        "            sampled_files = random.sample(os.listdir(class_dir), max_samples)\n",
        "        else:\n",
        "            # Salin semua file Baroque\n",
        "            sampled_files = os.listdir(class_dir)\n",
        "\n",
        "        for file in sampled_files:\n",
        "            src = os.path.join(class_dir, file)\n",
        "            dst = os.path.join(target_class_dir, file)\n",
        "            shutil.copy(src, dst)\n",
        "\n",
        "# Menyeimbangkan data dengan sampling\n",
        "balance_by_sampling(dataset_path, balanced_dataset_path, max_samples=1079)\n"
      ]
    },
    {
      "cell_type": "markdown",
      "metadata": {
        "id": "80yGySaIPtkh"
      },
      "source": [
        "splitting dataset"
      ]
    },
    {
      "cell_type": "code",
      "execution_count": null,
      "metadata": {
        "id": "ajX7Xm1aPUix"
      },
      "outputs": [],
      "source": [
        "from sklearn.model_selection import train_test_split\n",
        "import os\n",
        "import shutil\n",
        "\n",
        "# Path balanced dataset\n",
        "balanced_dataset_path = '/content/drive/MyDrive/Colab Notebooks/Colab_DL/BalancedSampleDataset'\n",
        "splitted_dataset_path_1 = '/content/drive/MyDrive/Colab Notebooks/Colab_DL/SplittedBalancedSampleDataset'\n",
        "\n",
        "# Membuat direktori untuk train, val, test\n",
        "for split in ['train', 'val', 'test']:\n",
        "    for class_name in ['Baroque', 'Modernist']:\n",
        "        os.makedirs(os.path.join(splitted_dataset_path_1, split, class_name), exist_ok=True)\n",
        "\n",
        "# Fungsi untuk splitting dataset\n",
        "def split_dataset_balanced(original_dir, target_dir, train_ratio=0.7, val_ratio=0.2):\n",
        "    for class_name in os.listdir(original_dir):\n",
        "        class_dir = os.path.join(original_dir, class_name)\n",
        "        images = os.listdir(class_dir)\n",
        "\n",
        "        # Split data\n",
        "        train, temp = train_test_split(images, test_size=1 - train_ratio, random_state=42)\n",
        "        val, test = train_test_split(temp, test_size=(1 - train_ratio - val_ratio) / (1 - train_ratio), random_state=42)\n",
        "\n",
        "        # Copy data ke folder target\n",
        "        for split, split_name in zip([train, val, test], ['train', 'val', 'test']):\n",
        "            target_class_dir = os.path.join(target_dir, split_name, class_name)\n",
        "            for file in split:\n",
        "                src = os.path.join(class_dir, file)\n",
        "                dst = os.path.join(target_class_dir, file)\n",
        "                shutil.copy(src, dst)\n",
        "\n",
        "# Splitting dataset\n",
        "split_dataset_balanced(balanced_dataset_path, splitted_dataset_path_1)\n"
      ]
    },
    {
      "cell_type": "markdown",
      "metadata": {
        "id": "OeTUvDaOP1DL"
      },
      "source": [
        "verifikasi"
      ]
    },
    {
      "cell_type": "code",
      "execution_count": null,
      "metadata": {
        "colab": {
          "base_uri": "https://localhost:8080/"
        },
        "id": "IHCG4_YGP0lu",
        "outputId": "ee3f5044-5efa-4503-a650-bcbe8c444508"
      },
      "outputs": [
        {
          "name": "stdout",
          "output_type": "stream",
          "text": [
            "Pendekatan 1 - Training Counts: {'Baroque': 755, 'Modernist': 755}\n",
            "Pendekatan 1 - Validation Counts: {'Baroque': 215, 'Modernist': 215}\n",
            "Pendekatan 1 - Testing Counts: {'Baroque': 109, 'Modernist': 109}\n"
          ]
        }
      ],
      "source": [
        "import os\n",
        "\n",
        "splitted_dataset_path_1 = '/content/drive/MyDrive/Colab Notebooks/Colab_DL/SplittedBalancedSampleDataset'\n",
        "\n",
        "def count_images(directory):\n",
        "    class_counts = {}\n",
        "    for class_name in os.listdir(directory):\n",
        "        class_dir = os.path.join(directory, class_name)\n",
        "        if os.path.isdir(class_dir):\n",
        "            class_counts[class_name] = len(os.listdir(class_dir))\n",
        "    return class_counts\n",
        "\n",
        "# Verifikasi jumlah data\n",
        "train_counts_1 = count_images(os.path.join(splitted_dataset_path_1, 'train'))\n",
        "val_counts_1 = count_images(os.path.join(splitted_dataset_path_1, 'val'))\n",
        "test_counts_1 = count_images(os.path.join(splitted_dataset_path_1, 'test'))\n",
        "\n",
        "print(\"Pendekatan 1 - Training Counts:\", train_counts_1)\n",
        "print(\"Pendekatan 1 - Validation Counts:\", val_counts_1)\n",
        "print(\"Pendekatan 1 - Testing Counts:\", test_counts_1)\n"
      ]
    },
    {
      "cell_type": "markdown",
      "metadata": {
        "id": "opRfxviFQ_C-"
      },
      "source": [
        "normalisasi dan augmentasi"
      ]
    },
    {
      "cell_type": "code",
      "execution_count": null,
      "metadata": {
        "colab": {
          "base_uri": "https://localhost:8080/"
        },
        "id": "ZtFocUCFRA_3",
        "outputId": "46a5d0b6-5c0f-4efe-ad63-4b60aeaf8cd2"
      },
      "outputs": [
        {
          "name": "stdout",
          "output_type": "stream",
          "text": [
            "Found 1510 images belonging to 2 classes.\n",
            "Found 430 images belonging to 2 classes.\n",
            "Found 218 images belonging to 2 classes.\n"
          ]
        }
      ],
      "source": [
        "from tensorflow.keras.preprocessing.image import ImageDataGenerator\n",
        "\n",
        "# Path ke train, val, test\n",
        "train_dir_1 = os.path.join(splitted_dataset_path_1, 'train')\n",
        "val_dir_1 = os.path.join(splitted_dataset_path_1, 'val')\n",
        "test_dir_1 = os.path.join(splitted_dataset_path_1, 'test')\n",
        "\n",
        "# Data augmentation untuk training, hanya rescaling untuk validation dan testing\n",
        "train_datagen_1 = ImageDataGenerator(\n",
        "    rescale=1.0/255,\n",
        "    rotation_range=20,\n",
        "    width_shift_range=0.2,\n",
        "    height_shift_range=0.2,\n",
        "    shear_range=0.2,\n",
        "    zoom_range=0.2,\n",
        "    horizontal_flip=True,\n",
        "    fill_mode='nearest'\n",
        ")\n",
        "\n",
        "val_test_datagen_1 = ImageDataGenerator(rescale=1.0/255)\n",
        "\n",
        "# Load dataset\n",
        "train_data_1 = train_datagen_1.flow_from_directory(\n",
        "    train_dir_1,\n",
        "    target_size=(128, 128),\n",
        "    batch_size=32,\n",
        "    class_mode='categorical'\n",
        ")\n",
        "\n",
        "val_data_1 = val_test_datagen_1.flow_from_directory(\n",
        "    val_dir_1,\n",
        "    target_size=(128, 128),\n",
        "    batch_size=32,\n",
        "    class_mode='categorical'\n",
        ")\n",
        "\n",
        "test_data_1 = val_test_datagen_1.flow_from_directory(\n",
        "    test_dir_1,\n",
        "    target_size=(128, 128),\n",
        "    batch_size=32,\n",
        "    class_mode='categorical',\n",
        "    shuffle=False\n",
        ")\n"
      ]
    },
    {
      "cell_type": "markdown",
      "metadata": {
        "id": "GGtL5ewb30XX"
      },
      "source": [
        "# Pendekatan 2: augemented dataset baroque"
      ]
    },
    {
      "cell_type": "code",
      "execution_count": null,
      "metadata": {
        "id": "-UMC40cGAJYF"
      },
      "outputs": [],
      "source": [
        "import os\n",
        "import random\n",
        "import shutil\n",
        "from sklearn.model_selection import train_test_split\n",
        "from tensorflow.keras.preprocessing.image import ImageDataGenerator\n",
        "from PIL import Image\n",
        "import numpy as np\n",
        "from datetime import datetime\n",
        "\n",
        "# Path dataset asli\n",
        "original_dataset_path = '/content/drive/MyDrive/Colab Notebooks/Colab_DL/ArchitecturalStylesDataset'\n",
        "splitted_dataset_path = '/content/drive/MyDrive/Colab Notebooks/Colab_DL/SplittedDataset'\n",
        "\n",
        "# Buat direktori untuk train, val, test\n",
        "for split in ['train', 'val', 'test']:\n",
        "    for class_name in ['Baroque', 'Modernist']:\n",
        "        os.makedirs(os.path.join(splitted_dataset_path, split, class_name), exist_ok=True)\n",
        "\n",
        "# Fungsi untuk splitting dataset dengan balancing untuk validation dan testing\n",
        "def split_and_balance_dataset(original_dir, target_dir, train_ratio=0.7, val_ratio=0.2):\n",
        "    for class_name in os.listdir(original_dir):\n",
        "        class_dir = os.path.join(original_dir, class_name)\n",
        "        images = os.listdir(class_dir)\n",
        "\n",
        "        # Split data ke train, val, dan test\n",
        "        train, temp = train_test_split(images, test_size=1 - train_ratio, random_state=42)\n",
        "        val, test = train_test_split(temp, test_size=(1 - train_ratio - val_ratio) / (1 - train_ratio), random_state=42)\n",
        "\n",
        "        # Pastikan validation dan testing seimbang\n",
        "        if class_name == \"Modernist\":\n",
        "            baroque_val_dir = os.path.join(target_dir, 'val', 'Baroque')\n",
        "            baroque_test_dir = os.path.join(target_dir, 'test', 'Baroque')\n",
        "            baroque_val_count = len(os.listdir(baroque_val_dir))\n",
        "            baroque_test_count = len(os.listdir(baroque_test_dir))\n",
        "\n",
        "            # Sampling ulang untuk validation dan testing Modernist\n",
        "            val = random.sample(val, baroque_val_count)\n",
        "            test = random.sample(test, baroque_test_count)\n",
        "\n",
        "        # Copy data ke folder target\n",
        "        for split, split_name in zip([train, val, test], ['train', 'val', 'test']):\n",
        "            target_class_dir = os.path.join(target_dir, split_name, class_name)\n",
        "            for file in split:\n",
        "                src = os.path.join(class_dir, file)\n",
        "                dst = os.path.join(target_class_dir, file)\n",
        "                shutil.copy(src, dst)\n",
        "\n",
        "# Split dataset dan pastikan validation dan testing seimbang\n",
        "split_and_balance_dataset(original_dataset_path, splitted_dataset_path)\n",
        "\n",
        "# Augmentasi hanya untuk data training kelas Baroque\n",
        "augment_gen = ImageDataGenerator(\n",
        "    rotation_range=45,\n",
        "    width_shift_range=0.3,\n",
        "    height_shift_range=0.3,\n",
        "    shear_range=0.3,\n",
        "    zoom_range=0.3,\n",
        "    horizontal_flip=True,\n",
        "    fill_mode='nearest'\n",
        ")\n",
        "\n",
        "def augment_training_data(class_dir, target_count):\n",
        "    images = os.listdir(class_dir)\n",
        "    num_images = len(images)\n",
        "    required_augments = target_count - num_images\n",
        "    image_idx = 0\n",
        "\n",
        "    while required_augments > 0:\n",
        "        img_path = os.path.join(class_dir, images[image_idx % num_images])\n",
        "        img = Image.open(img_path)\n",
        "        img = img.resize((128, 128))\n",
        "        img = np.expand_dims(np.array(img), 0)\n",
        "\n",
        "        for batch in augment_gen.flow(\n",
        "            img,\n",
        "            batch_size=1,\n",
        "            save_to_dir=class_dir,\n",
        "            save_prefix=f'aug_{datetime.now().strftime(\"%Y%m%d%H%M%S\")}',\n",
        "            save_format='jpeg'\n",
        "        ):\n",
        "            required_augments -= 1\n",
        "            if required_augments <= 0:\n",
        "                break\n",
        "        image_idx += 1\n",
        "\n",
        "# Augmentasi untuk data training Baroque\n",
        "baroque_train_dir = os.path.join(splitted_dataset_path, 'train', 'Baroque')\n",
        "modernist_train_dir = os.path.join(splitted_dataset_path, 'train', 'Modernist')\n",
        "\n",
        "# Pastikan jumlah data train kelas seimbang\n",
        "target_train_count = len(os.listdir(modernist_train_dir))  # Gunakan jumlah data Modernist\n",
        "augment_training_data(baroque_train_dir, target_count=target_train_count)\n"
      ]
    },
    {
      "cell_type": "markdown",
      "metadata": {
        "id": "pukkxSFPM_F6"
      },
      "source": [
        "verifikasi dataset augmented"
      ]
    },
    {
      "cell_type": "code",
      "execution_count": null,
      "metadata": {
        "colab": {
          "base_uri": "https://localhost:8080/"
        },
        "id": "7NfWqNuJDSTl",
        "outputId": "2a6b02ac-14ee-4ab7-9b01-cef1fb6467e5"
      },
      "outputs": [
        {
          "name": "stdout",
          "output_type": "stream",
          "text": [
            "Pendekatan 2 - Training Counts: {'Baroque': 1286, 'Modernist': 1306}\n",
            "Pendekatan 2 - Validation Counts: {'Baroque': 215, 'Modernist': 215}\n",
            "Pendekatan 2 - Testing Counts: {'Baroque': 109, 'Modernist': 109}\n"
          ]
        }
      ],
      "source": [
        "import os\n",
        "\n",
        "splitted_dataset_path = '/content/drive/MyDrive/Colab Notebooks/Colab_DL/SplittedDataset'\n",
        "\n",
        "def count_images(directory):\n",
        "    class_counts = {}\n",
        "    for class_name in os.listdir(directory):\n",
        "        class_dir = os.path.join(directory, class_name)\n",
        "        if os.path.isdir(class_dir):\n",
        "            class_counts[class_name] = len(os.listdir(class_dir))\n",
        "    return class_counts\n",
        "\n",
        "# Verifikasi jumlah data\n",
        "train_counts_2 = count_images(os.path.join(splitted_dataset_path, 'train'))\n",
        "val_counts_2 = count_images(os.path.join(splitted_dataset_path, 'val'))\n",
        "test_counts_2 = count_images(os.path.join(splitted_dataset_path, 'test'))\n",
        "\n",
        "print(\"Pendekatan 2 - Training Counts:\", train_counts_2)\n",
        "print(\"Pendekatan 2 - Validation Counts:\", val_counts_2)\n",
        "print(\"Pendekatan 2 - Testing Counts:\", test_counts_2)\n"
      ]
    },
    {
      "cell_type": "markdown",
      "metadata": {
        "id": "xcZ5h9mbPZUE"
      },
      "source": [
        "normalisasi dataset"
      ]
    },
    {
      "cell_type": "code",
      "execution_count": null,
      "metadata": {
        "colab": {
          "base_uri": "https://localhost:8080/"
        },
        "id": "O-FJX4ssPYoN",
        "outputId": "2ff0cf5a-6aa1-4bcd-9fae-8085dc823236"
      },
      "outputs": [
        {
          "name": "stdout",
          "output_type": "stream",
          "text": [
            "Found 2592 images belonging to 2 classes.\n",
            "Found 430 images belonging to 2 classes.\n",
            "Found 218 images belonging to 2 classes.\n"
          ]
        }
      ],
      "source": [
        "from tensorflow.keras.preprocessing.image import ImageDataGenerator\n",
        "\n",
        "# Path ke train, val, test\n",
        "train_dir_2 = os.path.join(splitted_dataset_path, 'train')\n",
        "val_dir_2 = os.path.join(splitted_dataset_path, 'val')\n",
        "test_dir_2 = os.path.join(splitted_dataset_path, 'test')\n",
        "\n",
        "# Data augmentation untuk train, hanya rescaling untuk val dan test\n",
        "train_datagen_2 = ImageDataGenerator(\n",
        "    rescale=1.0/255,\n",
        "    rotation_range=20,\n",
        "    width_shift_range=0.2,\n",
        "    height_shift_range=0.2,\n",
        "    shear_range=0.2,\n",
        "    zoom_range=0.2,\n",
        "    horizontal_flip=True,\n",
        "    fill_mode='nearest'\n",
        ")\n",
        "\n",
        "val_test_datagen_2 = ImageDataGenerator(rescale=1.0/255)\n",
        "\n",
        "# Load data\n",
        "train_data_2 = train_datagen_2.flow_from_directory(\n",
        "    train_dir_2,\n",
        "    target_size=(128, 128),\n",
        "    batch_size=32,\n",
        "    class_mode='categorical'\n",
        ")\n",
        "\n",
        "val_data_2 = val_test_datagen_2.flow_from_directory(\n",
        "    val_dir_2,\n",
        "    target_size=(128, 128),\n",
        "    batch_size=32,\n",
        "    class_mode='categorical'\n",
        ")\n",
        "\n",
        "test_data_2 = val_test_datagen_2.flow_from_directory(\n",
        "    test_dir_2,\n",
        "    target_size=(128, 128),\n",
        "    batch_size=32,\n",
        "    class_mode='categorical',\n",
        "    shuffle=False\n",
        ")\n"
      ]
    },
    {
      "cell_type": "markdown",
      "metadata": {
        "id": "BZVIbIvuRqiz"
      },
      "source": [
        "# Model Arsitektur CNN"
      ]
    },
    {
      "cell_type": "code",
      "execution_count": null,
      "metadata": {
        "id": "T7PEV-OERot9"
      },
      "outputs": [],
      "source": [
        "from tensorflow.keras.models import Sequential\n",
        "from tensorflow.keras.layers import (\n",
        "    Conv2D, MaxPooling2D, Flatten, Dense, Dropout\n",
        ")\n",
        "\n",
        "# Membuat model CNN\n",
        "def create_cnn_model():\n",
        "    model = Sequential([\n",
        "        # Lapisan konvolusi pertama\n",
        "        Conv2D(32, (3, 3), activation='relu', input_shape=(128, 128, 3)),\n",
        "        MaxPooling2D(pool_size=(2, 2)),\n",
        "        Dropout(0.25),\n",
        "\n",
        "        # Lapisan konvolusi kedua\n",
        "        Conv2D(64, (3, 3), activation='relu'),\n",
        "        MaxPooling2D(pool_size=(2, 2)),\n",
        "        Dropout(0.25),\n",
        "\n",
        "        # Lapisan konvolusi ketiga\n",
        "        Conv2D(128, (3, 3), activation='relu'),\n",
        "        MaxPooling2D(pool_size=(2, 2)),\n",
        "        Dropout(0.4),\n",
        "\n",
        "        # Fully connected layer\n",
        "        Flatten(),\n",
        "        Dense(128, activation='relu'),\n",
        "        Dropout(0.5),\n",
        "        Dense(2, activation='softmax')  # 2 kelas\n",
        "    ])\n",
        "\n",
        "    model.compile(\n",
        "        optimizer='adam',\n",
        "        loss='categorical_crossentropy',\n",
        "        metrics=['accuracy']\n",
        "    )\n",
        "    return model\n"
      ]
    },
    {
      "cell_type": "markdown",
      "metadata": {
        "id": "IIwQIdwc9HlX"
      },
      "source": [
        "# Model Pendekatan 1"
      ]
    },
    {
      "cell_type": "code",
      "execution_count": null,
      "metadata": {
        "colab": {
          "base_uri": "https://localhost:8080/"
        },
        "id": "Qls_ixuk9FtZ",
        "outputId": "0027ae4a-89a1-4b9f-ce8e-729c8527dfc3"
      },
      "outputs": [
        {
          "name": "stderr",
          "output_type": "stream",
          "text": [
            "/usr/local/lib/python3.10/dist-packages/keras/src/layers/convolutional/base_conv.py:107: UserWarning: Do not pass an `input_shape`/`input_dim` argument to a layer. When using Sequential models, prefer using an `Input(shape)` object as the first layer in the model instead.\n",
            "  super().__init__(activity_regularizer=activity_regularizer, **kwargs)\n"
          ]
        },
        {
          "name": "stdout",
          "output_type": "stream",
          "text": [
            "Epoch 1/20\n"
          ]
        },
        {
          "name": "stderr",
          "output_type": "stream",
          "text": [
            "/usr/local/lib/python3.10/dist-packages/keras/src/trainers/data_adapters/py_dataset_adapter.py:121: UserWarning: Your `PyDataset` class should call `super().__init__(**kwargs)` in its constructor. `**kwargs` can include `workers`, `use_multiprocessing`, `max_queue_size`. Do not pass these arguments to `fit()`, as they will be ignored.\n",
            "  self._warn_if_super_not_called()\n"
          ]
        },
        {
          "name": "stdout",
          "output_type": "stream",
          "text": [
            "\u001b[1m48/48\u001b[0m \u001b[32m━━━━━━━━━━━━━━━━━━━━\u001b[0m\u001b[37m\u001b[0m \u001b[1m78s\u001b[0m 2s/step - accuracy: 0.5027 - loss: 0.8948 - val_accuracy: 0.5000 - val_loss: 0.6867\n",
            "Epoch 2/20\n",
            "\u001b[1m48/48\u001b[0m \u001b[32m━━━━━━━━━━━━━━━━━━━━\u001b[0m\u001b[37m\u001b[0m \u001b[1m71s\u001b[0m 1s/step - accuracy: 0.5488 - loss: 0.6823 - val_accuracy: 0.6535 - val_loss: 0.6440\n",
            "Epoch 3/20\n",
            "\u001b[1m48/48\u001b[0m \u001b[32m━━━━━━━━━━━━━━━━━━━━\u001b[0m\u001b[37m\u001b[0m \u001b[1m74s\u001b[0m 1s/step - accuracy: 0.6086 - loss: 0.6591 - val_accuracy: 0.6674 - val_loss: 0.6296\n",
            "Epoch 4/20\n",
            "\u001b[1m48/48\u001b[0m \u001b[32m━━━━━━━━━━━━━━━━━━━━\u001b[0m\u001b[37m\u001b[0m \u001b[1m73s\u001b[0m 1s/step - accuracy: 0.6132 - loss: 0.6566 - val_accuracy: 0.6558 - val_loss: 0.6783\n",
            "Epoch 5/20\n",
            "\u001b[1m48/48\u001b[0m \u001b[32m━━━━━━━━━━━━━━━━━━━━\u001b[0m\u001b[37m\u001b[0m \u001b[1m74s\u001b[0m 1s/step - accuracy: 0.6604 - loss: 0.6281 - val_accuracy: 0.6488 - val_loss: 0.6317\n",
            "Epoch 6/20\n",
            "\u001b[1m48/48\u001b[0m \u001b[32m━━━━━━━━━━━━━━━━━━━━\u001b[0m\u001b[37m\u001b[0m \u001b[1m75s\u001b[0m 1s/step - accuracy: 0.6356 - loss: 0.6469 - val_accuracy: 0.6814 - val_loss: 0.6028\n",
            "Epoch 7/20\n",
            "\u001b[1m48/48\u001b[0m \u001b[32m━━━━━━━━━━━━━━━━━━━━\u001b[0m\u001b[37m\u001b[0m \u001b[1m80s\u001b[0m 1s/step - accuracy: 0.6440 - loss: 0.6353 - val_accuracy: 0.6814 - val_loss: 0.5918\n",
            "Epoch 8/20\n",
            "\u001b[1m48/48\u001b[0m \u001b[32m━━━━━━━━━━━━━━━━━━━━\u001b[0m\u001b[37m\u001b[0m \u001b[1m80s\u001b[0m 1s/step - accuracy: 0.6414 - loss: 0.6274 - val_accuracy: 0.7116 - val_loss: 0.5887\n",
            "Epoch 9/20\n",
            "\u001b[1m48/48\u001b[0m \u001b[32m━━━━━━━━━━━━━━━━━━━━\u001b[0m\u001b[37m\u001b[0m \u001b[1m82s\u001b[0m 1s/step - accuracy: 0.6485 - loss: 0.6091 - val_accuracy: 0.7302 - val_loss: 0.5689\n",
            "Epoch 10/20\n",
            "\u001b[1m48/48\u001b[0m \u001b[32m━━━━━━━━━━━━━━━━━━━━\u001b[0m\u001b[37m\u001b[0m \u001b[1m76s\u001b[0m 2s/step - accuracy: 0.6770 - loss: 0.5942 - val_accuracy: 0.6326 - val_loss: 0.6914\n",
            "Epoch 11/20\n",
            "\u001b[1m48/48\u001b[0m \u001b[32m━━━━━━━━━━━━━━━━━━━━\u001b[0m\u001b[37m\u001b[0m \u001b[1m77s\u001b[0m 1s/step - accuracy: 0.6779 - loss: 0.6047 - val_accuracy: 0.7349 - val_loss: 0.5586\n",
            "Epoch 12/20\n",
            "\u001b[1m48/48\u001b[0m \u001b[32m━━━━━━━━━━━━━━━━━━━━\u001b[0m\u001b[37m\u001b[0m \u001b[1m74s\u001b[0m 1s/step - accuracy: 0.6908 - loss: 0.5720 - val_accuracy: 0.7326 - val_loss: 0.5700\n",
            "Epoch 13/20\n",
            "\u001b[1m48/48\u001b[0m \u001b[32m━━━━━━━━━━━━━━━━━━━━\u001b[0m\u001b[37m\u001b[0m \u001b[1m82s\u001b[0m 1s/step - accuracy: 0.7027 - loss: 0.5727 - val_accuracy: 0.6744 - val_loss: 0.6745\n",
            "Epoch 14/20\n",
            "\u001b[1m48/48\u001b[0m \u001b[32m━━━━━━━━━━━━━━━━━━━━\u001b[0m\u001b[37m\u001b[0m \u001b[1m73s\u001b[0m 1s/step - accuracy: 0.7192 - loss: 0.5735 - val_accuracy: 0.6070 - val_loss: 0.7971\n",
            "Epoch 15/20\n",
            "\u001b[1m48/48\u001b[0m \u001b[32m━━━━━━━━━━━━━━━━━━━━\u001b[0m\u001b[37m\u001b[0m \u001b[1m81s\u001b[0m 1s/step - accuracy: 0.7010 - loss: 0.5707 - val_accuracy: 0.6558 - val_loss: 0.6411\n",
            "Epoch 16/20\n",
            "\u001b[1m48/48\u001b[0m \u001b[32m━━━━━━━━━━━━━━━━━━━━\u001b[0m\u001b[37m\u001b[0m \u001b[1m85s\u001b[0m 1s/step - accuracy: 0.7085 - loss: 0.5577 - val_accuracy: 0.7395 - val_loss: 0.5393\n",
            "Epoch 17/20\n",
            "\u001b[1m48/48\u001b[0m \u001b[32m━━━━━━━━━━━━━━━━━━━━\u001b[0m\u001b[37m\u001b[0m \u001b[1m71s\u001b[0m 1s/step - accuracy: 0.7340 - loss: 0.5417 - val_accuracy: 0.6953 - val_loss: 0.5860\n",
            "Epoch 18/20\n",
            "\u001b[1m48/48\u001b[0m \u001b[32m━━━━━━━━━━━━━━━━━━━━\u001b[0m\u001b[37m\u001b[0m \u001b[1m85s\u001b[0m 1s/step - accuracy: 0.7306 - loss: 0.5442 - val_accuracy: 0.7442 - val_loss: 0.5497\n",
            "Epoch 19/20\n",
            "\u001b[1m48/48\u001b[0m \u001b[32m━━━━━━━━━━━━━━━━━━━━\u001b[0m\u001b[37m\u001b[0m \u001b[1m79s\u001b[0m 1s/step - accuracy: 0.7008 - loss: 0.5781 - val_accuracy: 0.7372 - val_loss: 0.5346\n",
            "Epoch 20/20\n",
            "\u001b[1m48/48\u001b[0m \u001b[32m━━━━━━━━━━━━━━━━━━━━\u001b[0m\u001b[37m\u001b[0m \u001b[1m76s\u001b[0m 2s/step - accuracy: 0.7145 - loss: 0.5563 - val_accuracy: 0.7093 - val_loss: 0.5740\n"
          ]
        }
      ],
      "source": [
        "# Buat model untuk pendekatan 1\n",
        "model_1 = create_cnn_model()\n",
        "\n",
        "# Latih model\n",
        "history_1 = model_1.fit(\n",
        "    train_data_1,  # Dari hasil augmentasi dan normalisasi Pendekatan 1\n",
        "    validation_data=val_data_1,\n",
        "    epochs=20,\n",
        "    batch_size=32,\n",
        "    verbose=1\n",
        ")\n"
      ]
    },
    {
      "cell_type": "markdown",
      "metadata": {
        "id": "l7JDIOFlNYkQ"
      },
      "source": [
        "# Model Pendekatan 2"
      ]
    },
    {
      "cell_type": "code",
      "execution_count": null,
      "metadata": {
        "colab": {
          "base_uri": "https://localhost:8080/"
        },
        "id": "dU8__hiFNeEt",
        "outputId": "895f6c01-faf1-4930-a5d0-4657c5677cdc"
      },
      "outputs": [
        {
          "name": "stdout",
          "output_type": "stream",
          "text": [
            "Epoch 1/20\n",
            "\u001b[1m81/81\u001b[0m \u001b[32m━━━━━━━━━━━━━━━━━━━━\u001b[0m\u001b[37m\u001b[0m \u001b[1m137s\u001b[0m 2s/step - accuracy: 0.6385 - loss: 0.7178 - val_accuracy: 0.5930 - val_loss: 0.6793\n",
            "Epoch 2/20\n",
            "\u001b[1m81/81\u001b[0m \u001b[32m━━━━━━━━━━━━━━━━━━━━\u001b[0m\u001b[37m\u001b[0m \u001b[1m131s\u001b[0m 2s/step - accuracy: 0.6775 - loss: 0.5866 - val_accuracy: 0.5977 - val_loss: 0.6530\n",
            "Epoch 3/20\n",
            "\u001b[1m81/81\u001b[0m \u001b[32m━━━━━━━━━━━━━━━━━━━━\u001b[0m\u001b[37m\u001b[0m \u001b[1m114s\u001b[0m 1s/step - accuracy: 0.7210 - loss: 0.5463 - val_accuracy: 0.6233 - val_loss: 0.6975\n",
            "Epoch 4/20\n",
            "\u001b[1m81/81\u001b[0m \u001b[32m━━━━━━━━━━━━━━━━━━━━\u001b[0m\u001b[37m\u001b[0m \u001b[1m112s\u001b[0m 1s/step - accuracy: 0.7342 - loss: 0.5191 - val_accuracy: 0.5721 - val_loss: 0.9079\n",
            "Epoch 5/20\n",
            "\u001b[1m81/81\u001b[0m \u001b[32m━━━━━━━━━━━━━━━━━━━━\u001b[0m\u001b[37m\u001b[0m \u001b[1m116s\u001b[0m 1s/step - accuracy: 0.7472 - loss: 0.5050 - val_accuracy: 0.5860 - val_loss: 0.7062\n",
            "Epoch 6/20\n",
            "\u001b[1m81/81\u001b[0m \u001b[32m━━━━━━━━━━━━━━━━━━━━\u001b[0m\u001b[37m\u001b[0m \u001b[1m136s\u001b[0m 1s/step - accuracy: 0.7473 - loss: 0.4833 - val_accuracy: 0.5791 - val_loss: 0.7735\n",
            "Epoch 7/20\n",
            "\u001b[1m81/81\u001b[0m \u001b[32m━━━━━━━━━━━━━━━━━━━━\u001b[0m\u001b[37m\u001b[0m \u001b[1m114s\u001b[0m 1s/step - accuracy: 0.7494 - loss: 0.4828 - val_accuracy: 0.5860 - val_loss: 0.7702\n",
            "Epoch 8/20\n",
            "\u001b[1m81/81\u001b[0m \u001b[32m━━━━━━━━━━━━━━━━━━━━\u001b[0m\u001b[37m\u001b[0m \u001b[1m111s\u001b[0m 1s/step - accuracy: 0.7554 - loss: 0.4807 - val_accuracy: 0.5860 - val_loss: 0.6642\n",
            "Epoch 9/20\n",
            "\u001b[1m81/81\u001b[0m \u001b[32m━━━━━━━━━━━━━━━━━━━━\u001b[0m\u001b[37m\u001b[0m \u001b[1m140s\u001b[0m 1s/step - accuracy: 0.7421 - loss: 0.4644 - val_accuracy: 0.6326 - val_loss: 0.6426\n",
            "Epoch 10/20\n",
            "\u001b[1m81/81\u001b[0m \u001b[32m━━━━━━━━━━━━━━━━━━━━\u001b[0m\u001b[37m\u001b[0m \u001b[1m142s\u001b[0m 1s/step - accuracy: 0.7503 - loss: 0.4795 - val_accuracy: 0.6209 - val_loss: 0.6468\n",
            "Epoch 11/20\n",
            "\u001b[1m81/81\u001b[0m \u001b[32m━━━━━━━━━━━━━━━━━━━━\u001b[0m\u001b[37m\u001b[0m \u001b[1m107s\u001b[0m 1s/step - accuracy: 0.7630 - loss: 0.4802 - val_accuracy: 0.6558 - val_loss: 0.6042\n",
            "Epoch 12/20\n",
            "\u001b[1m81/81\u001b[0m \u001b[32m━━━━━━━━━━━━━━━━━━━━\u001b[0m\u001b[37m\u001b[0m \u001b[1m113s\u001b[0m 1s/step - accuracy: 0.7718 - loss: 0.4520 - val_accuracy: 0.5953 - val_loss: 0.6474\n",
            "Epoch 13/20\n",
            "\u001b[1m81/81\u001b[0m \u001b[32m━━━━━━━━━━━━━━━━━━━━\u001b[0m\u001b[37m\u001b[0m \u001b[1m138s\u001b[0m 1s/step - accuracy: 0.7686 - loss: 0.4597 - val_accuracy: 0.6349 - val_loss: 0.6040\n",
            "Epoch 14/20\n",
            "\u001b[1m81/81\u001b[0m \u001b[32m━━━━━━━━━━━━━━━━━━━━\u001b[0m\u001b[37m\u001b[0m \u001b[1m144s\u001b[0m 1s/step - accuracy: 0.7784 - loss: 0.4459 - val_accuracy: 0.6023 - val_loss: 0.6448\n",
            "Epoch 15/20\n",
            "\u001b[1m81/81\u001b[0m \u001b[32m━━━━━━━━━━━━━━━━━━━━\u001b[0m\u001b[37m\u001b[0m \u001b[1m111s\u001b[0m 1s/step - accuracy: 0.7776 - loss: 0.4337 - val_accuracy: 0.6907 - val_loss: 0.5808\n",
            "Epoch 16/20\n",
            "\u001b[1m81/81\u001b[0m \u001b[32m━━━━━━━━━━━━━━━━━━━━\u001b[0m\u001b[37m\u001b[0m \u001b[1m144s\u001b[0m 1s/step - accuracy: 0.7738 - loss: 0.4402 - val_accuracy: 0.7116 - val_loss: 0.5495\n",
            "Epoch 17/20\n",
            "\u001b[1m81/81\u001b[0m \u001b[32m━━━━━━━━━━━━━━━━━━━━\u001b[0m\u001b[37m\u001b[0m \u001b[1m140s\u001b[0m 1s/step - accuracy: 0.7650 - loss: 0.4398 - val_accuracy: 0.7326 - val_loss: 0.5423\n",
            "Epoch 18/20\n",
            "\u001b[1m81/81\u001b[0m \u001b[32m━━━━━━━━━━━━━━━━━━━━\u001b[0m\u001b[37m\u001b[0m \u001b[1m145s\u001b[0m 1s/step - accuracy: 0.7922 - loss: 0.4170 - val_accuracy: 0.6860 - val_loss: 0.5585\n",
            "Epoch 19/20\n",
            "\u001b[1m81/81\u001b[0m \u001b[32m━━━━━━━━━━━━━━━━━━━━\u001b[0m\u001b[37m\u001b[0m \u001b[1m142s\u001b[0m 1s/step - accuracy: 0.7811 - loss: 0.4203 - val_accuracy: 0.7395 - val_loss: 0.5288\n",
            "Epoch 20/20\n",
            "\u001b[1m81/81\u001b[0m \u001b[32m━━━━━━━━━━━━━━━━━━━━\u001b[0m\u001b[37m\u001b[0m \u001b[1m142s\u001b[0m 1s/step - accuracy: 0.8022 - loss: 0.4153 - val_accuracy: 0.7023 - val_loss: 0.5755\n"
          ]
        }
      ],
      "source": [
        "# Buat model untuk pendekatan 2\n",
        "model_2 = create_cnn_model()\n",
        "\n",
        "# Latih model\n",
        "history_2 = model_2.fit(\n",
        "    train_data_2,  # Dari hasil augmentasi dan normalisasi Pendekatan 2\n",
        "    validation_data=val_data_2,\n",
        "    epochs=20,\n",
        "    batch_size=32,\n",
        "    verbose=1\n",
        ")\n"
      ]
    },
    {
      "cell_type": "markdown",
      "metadata": {
        "id": "cizqc5Rkb3km"
      },
      "source": [
        "# Evaluasi Model"
      ]
    },
    {
      "cell_type": "code",
      "execution_count": null,
      "metadata": {
        "colab": {
          "base_uri": "https://localhost:8080/"
        },
        "id": "3IaioEg6b6MX",
        "outputId": "547b0a61-b41d-484f-d2c6-4be235074103"
      },
      "outputs": [
        {
          "name": "stdout",
          "output_type": "stream",
          "text": [
            "\u001b[1m7/7\u001b[0m \u001b[32m━━━━━━━━━━━━━━━━━━━━\u001b[0m\u001b[37m\u001b[0m \u001b[1m3s\u001b[0m 417ms/step - accuracy: 0.5694 - loss: 0.6834\n",
            "Pendekatan 1 - Loss: 0.5417047142982483, Accuracy: 0.6972476840019226\n"
          ]
        }
      ],
      "source": [
        "# Evaluasi pendekatan 1\n",
        "test_loss_1, test_accuracy_1 = model_1.evaluate(test_data_1, verbose=1)\n",
        "print(f\"Pendekatan 1 - Loss: {test_loss_1}, Accuracy: {test_accuracy_1}\")"
      ]
    },
    {
      "cell_type": "code",
      "execution_count": null,
      "metadata": {
        "colab": {
          "base_uri": "https://localhost:8080/"
        },
        "id": "Egp3OmH3b9I6",
        "outputId": "ae576412-0814-44a9-822a-84e3e9678f9e"
      },
      "outputs": [
        {
          "name": "stdout",
          "output_type": "stream",
          "text": [
            "\u001b[1m7/7\u001b[0m \u001b[32m━━━━━━━━━━━━━━━━━━━━\u001b[0m\u001b[37m\u001b[0m \u001b[1m4s\u001b[0m 501ms/step - accuracy: 0.5716 - loss: 0.7700\n",
            "Pendekatan 2 - Loss: 0.5761788487434387, Accuracy: 0.7064220309257507\n"
          ]
        }
      ],
      "source": [
        "# Evaluasi pendekatan 2\n",
        "test_loss_2, test_accuracy_2 = model_2.evaluate(test_data_2, verbose=1)\n",
        "print(f\"Pendekatan 2 - Loss: {test_loss_2}, Accuracy: {test_accuracy_2}\")"
      ]
    },
    {
      "cell_type": "markdown",
      "metadata": {
        "id": "8wZ3KJ60cD4O"
      },
      "source": [
        "# Plot Evaluasi"
      ]
    },
    {
      "cell_type": "code",
      "execution_count": null,
      "metadata": {
        "colab": {
          "base_uri": "https://localhost:8080/",
          "height": 1000
        },
        "id": "hsaqU73lcFm6",
        "outputId": "14dc665e-fad2-4099-fe0b-20857a8425fc"
      },
      "outputs": [
        {
          "data": {
            "image/png": "[encoded data removed]",
            "text/plain": [
              "<Figure size 1200x600 with 2 Axes>"
            ]
          },
          "metadata": {},
          "output_type": "display_data"
        },
        {
          "data": {
            "image/png": "[encoded data removed]",
            "text/plain": [
              "<Figure size 1200x600 with 2 Axes>"
            ]
          },
          "metadata": {},
          "output_type": "display_data"
        }
      ],
      "source": [
        "import matplotlib.pyplot as plt\n",
        "\n",
        "def plot_training_history(history, title):\n",
        "    # Plot akurasi\n",
        "    plt.figure(figsize=(12, 6))\n",
        "    plt.subplot(1, 2, 1)\n",
        "    plt.plot(history.history['accuracy'], label='Training Accuracy')\n",
        "    plt.plot(history.history['val_accuracy'], label='Validation Accuracy')\n",
        "    plt.title(f'{title} - Accuracy')\n",
        "    plt.xlabel('Epochs')\n",
        "    plt.ylabel('Accuracy')\n",
        "    plt.legend()\n",
        "\n",
        "    # Plot loss\n",
        "    plt.subplot(1, 2, 2)\n",
        "    plt.plot(history.history['loss'], label='Training Loss')\n",
        "    plt.plot(history.history['val_loss'], label='Validation Loss')\n",
        "    plt.title(f'{title} - Loss')\n",
        "    plt.xlabel('Epochs')\n",
        "    plt.ylabel('Loss')\n",
        "    plt.legend()\n",
        "    plt.show()\n",
        "\n",
        "# Visualisasi hasil untuk Pendekatan 1\n",
        "plot_training_history(history_1, \"Pendekatan 1\")\n",
        "\n",
        "# Visualisasi hasil untuk Pendekatan 2\n",
        "plot_training_history(history_2, \"Pendekatan 2\")"
      ]
    },
    {
      "cell_type": "markdown",
      "metadata": {
        "id": "D0JAGJtFcG87"
      },
      "source": [
        "# Classification Report"
      ]
    },
    {
      "cell_type": "code",
      "execution_count": null,
      "metadata": {
        "colab": {
          "base_uri": "https://localhost:8080/"
        },
        "id": "C6Te-YzkcLSx",
        "outputId": "a110f5e0-60e2-4c22-8b1c-54b3a35d8260"
      },
      "outputs": [
        {
          "name": "stdout",
          "output_type": "stream",
          "text": [
            "\u001b[1m7/7\u001b[0m \u001b[32m━━━━━━━━━━━━━━━━━━━━\u001b[0m\u001b[37m\u001b[0m \u001b[1m5s\u001b[0m 684ms/step\n",
            "Classification Report - Pendekatan 1\n",
            "              precision    recall  f1-score   support\n",
            "\n",
            "     Baroque       0.85      0.48      0.61       109\n",
            "   Modernist       0.64      0.92      0.75       109\n",
            "\n",
            "    accuracy                           0.70       218\n",
            "   macro avg       0.74      0.70      0.68       218\n",
            "weighted avg       0.74      0.70      0.68       218\n",
            "\n",
            "\u001b[1m7/7\u001b[0m \u001b[32m━━━━━━━━━━━━━━━━━━━━\u001b[0m\u001b[37m\u001b[0m \u001b[1m3s\u001b[0m 443ms/step\n",
            "Classification Report - Pendekatan 2\n",
            "              precision    recall  f1-score   support\n",
            "\n",
            "     Baroque       0.86      0.50      0.63       109\n",
            "   Modernist       0.65      0.92      0.76       109\n",
            "\n",
            "    accuracy                           0.71       218\n",
            "   macro avg       0.75      0.71      0.69       218\n",
            "weighted avg       0.75      0.71      0.69       218\n",
            "\n"
          ]
        }
      ],
      "source": [
        "from sklearn.metrics import classification_report\n",
        "\n",
        "# Prediksi untuk test data\n",
        "predictions_1 = model_1.predict(test_data_1)\n",
        "predicted_classes_1 = np.argmax(predictions_1, axis=1)\n",
        "true_classes_1 = test_data_1.classes\n",
        "\n",
        "# Classification Report Pendekatan 1\n",
        "print(\"Classification Report - Pendekatan 1\")\n",
        "print(classification_report(true_classes_1, predicted_classes_1, target_names=test_data_1.class_indices.keys()))\n",
        "\n",
        "# Ulangi untuk Pendekatan 2\n",
        "predictions_2 = model_2.predict(test_data_2)\n",
        "predicted_classes_2 = np.argmax(predictions_2, axis=1)\n",
        "true_classes_2 = test_data_2.classes\n",
        "\n",
        "# Classification Report Pendekatan 2\n",
        "print(\"Classification Report - Pendekatan 2\")\n",
        "print(classification_report(true_classes_2, predicted_classes_2, target_names=test_data_2.class_indices.keys()))"
      ]
    },
    {
      "cell_type": "markdown",
      "metadata": {
        "id": "9E9bRozK4gpj"
      },
      "source": [
        "# perbaikan model"
      ]
    },
    {
      "cell_type": "code",
      "execution_count": null,
      "metadata": {
        "colab": {
          "base_uri": "https://localhost:8080/",
          "height": 1000
        },
        "id": "2sKU6FCE4jSn",
        "outputId": "92e857b2-76a2-43ca-d252-15ee517278dc"
      },
      "outputs": [
        {
          "name": "stdout",
          "output_type": "stream",
          "text": [
            "Found 1510 images belonging to 2 classes.\n",
            "Found 430 images belonging to 2 classes.\n",
            "Found 218 images belonging to 2 classes.\n"
          ]
        },
        {
          "name": "stderr",
          "output_type": "stream",
          "text": [
            "/usr/local/lib/python3.10/dist-packages/keras/src/layers/convolutional/base_conv.py:107: UserWarning: Do not pass an `input_shape`/`input_dim` argument to a layer. When using Sequential models, prefer using an `Input(shape)` object as the first layer in the model instead.\n",
            "  super().__init__(activity_regularizer=activity_regularizer, **kwargs)\n"
          ]
        },
        {
          "name": "stdout",
          "output_type": "stream",
          "text": [
            "Epoch 1/20\n"
          ]
        },
        {
          "name": "stderr",
          "output_type": "stream",
          "text": [
            "/usr/local/lib/python3.10/dist-packages/keras/src/trainers/data_adapters/py_dataset_adapter.py:122: UserWarning: Your `PyDataset` class should call `super().__init__(**kwargs)` in its constructor. `**kwargs` can include `workers`, `use_multiprocessing`, `max_queue_size`. Do not pass these arguments to `fit()`, as they will be ignored.\n",
            "  self._warn_if_super_not_called()\n"
          ]
        },
        {
          "name": "stdout",
          "output_type": "stream",
          "text": [
            "\u001b[1m48/48\u001b[0m \u001b[32m━━━━━━━━━━━━━━━━━━━━\u001b[0m\u001b[37m\u001b[0m \u001b[1m137s\u001b[0m 3s/step - accuracy: 0.5444 - loss: 1.2222 - val_accuracy: 0.5000 - val_loss: 7.4965\n",
            "Epoch 2/20\n",
            "\u001b[1m48/48\u001b[0m \u001b[32m━━━━━━━━━━━━━━━━━━━━\u001b[0m\u001b[37m\u001b[0m \u001b[1m131s\u001b[0m 3s/step - accuracy: 0.6165 - loss: 0.8961 - val_accuracy: 0.5000 - val_loss: 6.7038\n",
            "Epoch 3/20\n",
            "\u001b[1m48/48\u001b[0m \u001b[32m━━━━━━━━━━━━━━━━━━━━\u001b[0m\u001b[37m\u001b[0m \u001b[1m131s\u001b[0m 2s/step - accuracy: 0.5958 - loss: 0.8102 - val_accuracy: 0.5000 - val_loss: 8.3900\n",
            "Epoch 4/20\n",
            "\u001b[1m48/48\u001b[0m \u001b[32m━━━━━━━━━━━━━━━━━━━━\u001b[0m\u001b[37m\u001b[0m \u001b[1m140s\u001b[0m 2s/step - accuracy: 0.6298 - loss: 0.6841 - val_accuracy: 0.5000 - val_loss: 9.1572\n",
            "Epoch 5/20\n",
            "\u001b[1m48/48\u001b[0m \u001b[32m━━━━━━━━━━━━━━━━━━━━\u001b[0m\u001b[37m\u001b[0m \u001b[1m120s\u001b[0m 2s/step - accuracy: 0.6375 - loss: 0.7013 - val_accuracy: 0.4977 - val_loss: 4.7040\n",
            "Epoch 6/20\n",
            "\u001b[1m48/48\u001b[0m \u001b[32m━━━━━━━━━━━━━━━━━━━━\u001b[0m\u001b[37m\u001b[0m \u001b[1m122s\u001b[0m 2s/step - accuracy: 0.6775 - loss: 0.6249 - val_accuracy: 0.4767 - val_loss: 4.5243\n",
            "Epoch 7/20\n",
            "\u001b[1m48/48\u001b[0m \u001b[32m━━━━━━━━━━━━━━━━━━━━\u001b[0m\u001b[37m\u001b[0m \u001b[1m119s\u001b[0m 2s/step - accuracy: 0.7262 - loss: 0.5568 - val_accuracy: 0.4907 - val_loss: 3.3773\n",
            "Epoch 8/20\n",
            "\u001b[1m48/48\u001b[0m \u001b[32m━━━━━━━━━━━━━━━━━━━━\u001b[0m\u001b[37m\u001b[0m \u001b[1m143s\u001b[0m 2s/step - accuracy: 0.6942 - loss: 0.5936 - val_accuracy: 0.5000 - val_loss: 3.1974\n",
            "Epoch 9/20\n",
            "\u001b[1m48/48\u001b[0m \u001b[32m━━━━━━━━━━━━━━━━━━━━\u001b[0m\u001b[37m\u001b[0m \u001b[1m118s\u001b[0m 2s/step - accuracy: 0.6756 - loss: 0.6043 - val_accuracy: 0.5023 - val_loss: 3.8763\n",
            "Epoch 10/20\n",
            "\u001b[1m48/48\u001b[0m \u001b[32m━━━━━━━━━━━━━━━━━━━━\u001b[0m\u001b[37m\u001b[0m \u001b[1m156s\u001b[0m 3s/step - accuracy: 0.6931 - loss: 0.5652 - val_accuracy: 0.4651 - val_loss: 3.3818\n",
            "Epoch 11/20\n",
            "\u001b[1m48/48\u001b[0m \u001b[32m━━━━━━━━━━━━━━━━━━━━\u001b[0m\u001b[37m\u001b[0m \u001b[1m123s\u001b[0m 2s/step - accuracy: 0.7137 - loss: 0.5713 - val_accuracy: 0.5628 - val_loss: 1.9639\n",
            "Epoch 12/20\n",
            "\u001b[1m48/48\u001b[0m \u001b[32m━━━━━━━━━━━━━━━━━━━━\u001b[0m\u001b[37m\u001b[0m \u001b[1m142s\u001b[0m 2s/step - accuracy: 0.7315 - loss: 0.5530 - val_accuracy: 0.4744 - val_loss: 1.7627\n",
            "Epoch 13/20\n",
            "\u001b[1m48/48\u001b[0m \u001b[32m━━━━━━━━━━━━━━━━━━━━\u001b[0m\u001b[37m\u001b[0m \u001b[1m142s\u001b[0m 2s/step - accuracy: 0.6934 - loss: 0.5679 - val_accuracy: 0.4767 - val_loss: 1.4859\n",
            "Epoch 14/20\n",
            "\u001b[1m48/48\u001b[0m \u001b[32m━━━━━━━━━━━━━━━━━━━━\u001b[0m\u001b[37m\u001b[0m \u001b[1m138s\u001b[0m 2s/step - accuracy: 0.7256 - loss: 0.5527 - val_accuracy: 0.4744 - val_loss: 2.7992\n",
            "Epoch 15/20\n",
            "\u001b[1m48/48\u001b[0m \u001b[32m━━━━━━━━━━━━━━━━━━━━\u001b[0m\u001b[37m\u001b[0m \u001b[1m121s\u001b[0m 2s/step - accuracy: 0.7276 - loss: 0.5572 - val_accuracy: 0.4884 - val_loss: 1.6680\n",
            "Epoch 16/20\n",
            "\u001b[1m48/48\u001b[0m \u001b[32m━━━━━━━━━━━━━━━━━━━━\u001b[0m\u001b[37m\u001b[0m \u001b[1m144s\u001b[0m 2s/step - accuracy: 0.7357 - loss: 0.5480 - val_accuracy: 0.5047 - val_loss: 1.9208\n",
            "Epoch 17/20\n",
            "\u001b[1m48/48\u001b[0m \u001b[32m━━━━━━━━━━━━━━━━━━━━\u001b[0m\u001b[37m\u001b[0m \u001b[1m138s\u001b[0m 2s/step - accuracy: 0.7658 - loss: 0.4984 - val_accuracy: 0.7326 - val_loss: 0.8267\n",
            "Epoch 18/20\n",
            "\u001b[1m48/48\u001b[0m \u001b[32m━━━━━━━━━━━━━━━━━━━━\u001b[0m\u001b[37m\u001b[0m \u001b[1m142s\u001b[0m 2s/step - accuracy: 0.7082 - loss: 0.5718 - val_accuracy: 0.6767 - val_loss: 0.6743\n",
            "Epoch 19/20\n",
            "\u001b[1m48/48\u001b[0m \u001b[32m━━━━━━━━━━━━━━━━━━━━\u001b[0m\u001b[37m\u001b[0m \u001b[1m118s\u001b[0m 2s/step - accuracy: 0.7092 - loss: 0.5757 - val_accuracy: 0.3907 - val_loss: 6.2597\n",
            "Epoch 20/20\n",
            "\u001b[1m48/48\u001b[0m \u001b[32m━━━━━━━━━━━━━━━━━━━━\u001b[0m\u001b[37m\u001b[0m \u001b[1m120s\u001b[0m 2s/step - accuracy: 0.7437 - loss: 0.5455 - val_accuracy: 0.5721 - val_loss: 1.5848\n",
            "\u001b[1m7/7\u001b[0m \u001b[32m━━━━━━━━━━━━━━━━━━━━\u001b[0m\u001b[37m\u001b[0m \u001b[1m6s\u001b[0m 726ms/step - accuracy: 0.5575 - loss: 0.9486\n",
            "Loss: 0.7158969640731812, Accuracy: 0.6651375889778137\n"
          ]
        },
        {
          "data": {
            "image/png": "[encoded data removed]",
            "text/plain": [
              "<Figure size 1200x600 with 2 Axes>"
            ]
          },
          "metadata": {},
          "output_type": "display_data"
        },
        {
          "name": "stdout",
          "output_type": "stream",
          "text": [
            "\u001b[1m7/7\u001b[0m \u001b[32m━━━━━━━━━━━━━━━━━━━━\u001b[0m\u001b[37m\u001b[0m \u001b[1m6s\u001b[0m 708ms/step\n",
            "Classification Report\n",
            "              precision    recall  f1-score   support\n",
            "\n",
            "     Baroque       0.77      0.47      0.58       109\n",
            "   Modernist       0.62      0.86      0.72       109\n",
            "\n",
            "    accuracy                           0.67       218\n",
            "   macro avg       0.70      0.67      0.65       218\n",
            "weighted avg       0.70      0.67      0.65       218\n",
            "\n",
            "Confusion Matrix:\n",
            " [[51 58]\n",
            " [15 94]]\n"
          ]
        },
        {
          "data": {
            "image/png": "[encoded data removed]",
            "text/plain": [
              "<Figure size 800x600 with 2 Axes>"
            ]
          },
          "metadata": {},
          "output_type": "display_data"
        }
      ],
      "source": [
        "from tensorflow.keras.models import Sequential\n",
        "from tensorflow.keras.layers import (\n",
        "    Conv2D, MaxPooling2D, Flatten, Dense, Dropout, BatchNormalization\n",
        ")\n",
        "from tensorflow.keras.preprocessing.image import ImageDataGenerator\n",
        "from tensorflow.keras.callbacks import EarlyStopping\n",
        "import matplotlib.pyplot as plt\n",
        "import numpy as np\n",
        "from sklearn.metrics import classification_report, confusion_matrix\n",
        "\n",
        "# Augmentasi dan normalisasi data training\n",
        "train_datagen = ImageDataGenerator(\n",
        "    rescale=1.0/255,\n",
        "    rotation_range=30,        # Augmentasi tambahan\n",
        "    width_shift_range=0.2,\n",
        "    height_shift_range=0.2,\n",
        "    shear_range=0.2,\n",
        "    zoom_range=0.3,           # Augmentasi tambahan\n",
        "    horizontal_flip=True,\n",
        "    fill_mode='nearest'\n",
        ")\n",
        "\n",
        "val_test_datagen = ImageDataGenerator(rescale=1.0/255)\n",
        "\n",
        "train_dir_1 = '/content/drive/MyDrive/Colab Notebooks/Colab_DL/SplittedBalancedSampleDataset/train'\n",
        "val_dir_1 = '/content/drive/MyDrive/Colab Notebooks/Colab_DL/SplittedBalancedSampleDataset/val'\n",
        "test_dir_1 = '/content/drive/MyDrive/Colab Notebooks/Colab_DL/SplittedBalancedSampleDataset/test'\n",
        "\n",
        "# Load dataset (Pendekatan 1)\n",
        "train_data = train_datagen.flow_from_directory(\n",
        "    train_dir_1,\n",
        "    target_size=(128, 128),\n",
        "    batch_size=32,\n",
        "    class_mode='categorical'\n",
        ")\n",
        "\n",
        "val_data = val_test_datagen.flow_from_directory(\n",
        "    val_dir_1,\n",
        "    target_size=(128, 128),\n",
        "    batch_size=32,\n",
        "    class_mode='categorical'\n",
        ")\n",
        "\n",
        "test_data = val_test_datagen.flow_from_directory(\n",
        "    test_dir_1,\n",
        "    target_size=(128, 128),\n",
        "    batch_size=32,\n",
        "    class_mode='categorical',\n",
        "    shuffle=False\n",
        ")\n",
        "\n",
        "# Arsitektur model CNN dengan perbaikan\n",
        "def create_cnn_model():\n",
        "    model = Sequential([\n",
        "        Conv2D(32, (3, 3), activation='relu', input_shape=(128, 128, 3)),\n",
        "        BatchNormalization(),\n",
        "        MaxPooling2D(pool_size=(2, 2)),\n",
        "        Dropout(0.3),  # Dropout untuk regularisasi\n",
        "\n",
        "        Conv2D(64, (3, 3), activation='relu'),\n",
        "        BatchNormalization(),\n",
        "        MaxPooling2D(pool_size=(2, 2)),\n",
        "        Dropout(0.4),\n",
        "\n",
        "        Conv2D(128, (3, 3), activation='relu'),\n",
        "        BatchNormalization(),\n",
        "        MaxPooling2D(pool_size=(2, 2)),\n",
        "        Dropout(0.5),\n",
        "\n",
        "        Flatten(),\n",
        "        Dense(256, activation='relu'),  # Tambahan jumlah unit\n",
        "        BatchNormalization(),\n",
        "        Dropout(0.5),\n",
        "        Dense(2, activation='softmax')  # 2 kelas\n",
        "    ])\n",
        "\n",
        "    model.compile(\n",
        "        optimizer='adam',\n",
        "        loss='categorical_crossentropy',\n",
        "        metrics=['accuracy']\n",
        "    )\n",
        "    return model\n",
        "\n",
        "# Buat model\n",
        "model = create_cnn_model()\n",
        "\n",
        "# Early stopping untuk mencegah overfitting\n",
        "early_stopping = EarlyStopping(monitor='val_loss', patience=5, restore_best_weights=True)\n",
        "\n",
        "# Latih model\n",
        "history = model.fit(\n",
        "    train_data,\n",
        "    validation_data=val_data,\n",
        "    epochs=20,\n",
        "    batch_size=32,\n",
        "    verbose=1,\n",
        "    callbacks=[early_stopping]\n",
        ")\n",
        "\n",
        "# Evaluasi model pada test set\n",
        "test_loss, test_accuracy = model.evaluate(test_data, verbose=1)\n",
        "print(f\"Loss: {test_loss}, Accuracy: {test_accuracy}\")\n",
        "\n",
        "# Visualisasi hasil training\n",
        "def plot_training_history(history):\n",
        "    # Akurasi\n",
        "    plt.figure(figsize=(12, 6))\n",
        "    plt.subplot(1, 2, 1)\n",
        "    plt.plot(history.history['accuracy'], label='Training Accuracy')\n",
        "    plt.plot(history.history['val_accuracy'], label='Validation Accuracy')\n",
        "    plt.title('Training and Validation Accuracy')\n",
        "    plt.xlabel('Epochs')\n",
        "    plt.ylabel('Accuracy')\n",
        "    plt.legend()\n",
        "\n",
        "    # Loss\n",
        "    plt.subplot(1, 2, 2)\n",
        "    plt.plot(history.history['loss'], label='Training Loss')\n",
        "    plt.plot(history.history['val_loss'], label='Validation Loss')\n",
        "    plt.title('Training and Validation Loss')\n",
        "    plt.xlabel('Epochs')\n",
        "    plt.ylabel('Loss')\n",
        "    plt.legend()\n",
        "    plt.show()\n",
        "\n",
        "plot_training_history(history)\n",
        "\n",
        "# Classification Report\n",
        "predictions = model.predict(test_data)\n",
        "predicted_classes = np.argmax(predictions, axis=1)\n",
        "true_classes = test_data.classes\n",
        "class_labels = list(test_data.class_indices.keys())\n",
        "\n",
        "print(\"Classification Report\")\n",
        "print(classification_report(true_classes, predicted_classes, target_names=class_labels))\n",
        "\n",
        "# Confusion Matrix\n",
        "conf_matrix = confusion_matrix(true_classes, predicted_classes)\n",
        "print(\"Confusion Matrix:\\n\", conf_matrix)\n",
        "\n",
        "# Plot Confusion Matrix\n",
        "plt.figure(figsize=(8, 6))\n",
        "plt.matshow(conf_matrix, cmap=plt.cm.Blues, fignum=1)\n",
        "plt.colorbar()\n",
        "plt.xlabel('Predicted')\n",
        "plt.ylabel('Actual')\n",
        "plt.xticks(range(len(class_labels)), class_labels, rotation=45)\n",
        "plt.yticks(range(len(class_labels)), class_labels)\n",
        "plt.title('Confusion Matrix')\n",
        "plt.show()\n"
      ]
    },
    {
      "cell_type": "code",
      "execution_count": null,
      "metadata": {
        "colab": {
          "base_uri": "https://localhost:8080/",
          "height": 1000
        },
        "id": "ln0mL-XtNSCe",
        "outputId": "c9498598-9090-43cd-80bc-3291caa976ec"
      },
      "outputs": [
        {
          "name": "stdout",
          "output_type": "stream",
          "text": [
            "Found 2592 images belonging to 2 classes.\n",
            "Found 430 images belonging to 2 classes.\n",
            "Found 218 images belonging to 2 classes.\n",
            "Epoch 1/20\n",
            "\u001b[1m81/81\u001b[0m \u001b[32m━━━━━━━━━━━━━━━━━━━━\u001b[0m\u001b[37m\u001b[0m \u001b[1m686s\u001b[0m 8s/step - accuracy: 0.5465 - loss: 1.2155 - val_accuracy: 0.7070 - val_loss: 0.6259\n",
            "Epoch 2/20\n",
            "\u001b[1m81/81\u001b[0m \u001b[32m━━━━━━━━━━━━━━━━━━━━\u001b[0m\u001b[37m\u001b[0m \u001b[1m783s\u001b[0m 9s/step - accuracy: 0.6555 - loss: 0.9001 - val_accuracy: 0.8047 - val_loss: 0.5245\n",
            "Epoch 3/20\n",
            "\u001b[1m81/81\u001b[0m \u001b[32m━━━━━━━━━━━━━━━━━━━━\u001b[0m\u001b[37m\u001b[0m \u001b[1m674s\u001b[0m 8s/step - accuracy: 0.7072 - loss: 0.7310 - val_accuracy: 0.8395 - val_loss: 0.4457\n",
            "Epoch 4/20\n",
            "\u001b[1m81/81\u001b[0m \u001b[32m━━━━━━━━━━━━━━━━━━━━\u001b[0m\u001b[37m\u001b[0m \u001b[1m683s\u001b[0m 8s/step - accuracy: 0.7476 - loss: 0.6426 - val_accuracy: 0.8488 - val_loss: 0.3805\n",
            "Epoch 5/20\n",
            "\u001b[1m81/81\u001b[0m \u001b[32m━━━━━━━━━━━━━━━━━━━━\u001b[0m\u001b[37m\u001b[0m \u001b[1m673s\u001b[0m 8s/step - accuracy: 0.7469 - loss: 0.6233 - val_accuracy: 0.8349 - val_loss: 0.3543\n",
            "Epoch 6/20\n",
            "\u001b[1m81/81\u001b[0m \u001b[32m━━━━━━━━━━━━━━━━━━━━\u001b[0m\u001b[37m\u001b[0m \u001b[1m680s\u001b[0m 8s/step - accuracy: 0.7565 - loss: 0.6197 - val_accuracy: 0.8442 - val_loss: 0.3356\n",
            "Epoch 7/20\n",
            "\u001b[1m81/81\u001b[0m \u001b[32m━━━━━━━━━━━━━━━━━━━━\u001b[0m\u001b[37m\u001b[0m \u001b[1m679s\u001b[0m 8s/step - accuracy: 0.7870 - loss: 0.5442 - val_accuracy: 0.8465 - val_loss: 0.3284\n",
            "Epoch 8/20\n",
            "\u001b[1m81/81\u001b[0m \u001b[32m━━━━━━━━━━━━━━━━━━━━\u001b[0m\u001b[37m\u001b[0m \u001b[1m674s\u001b[0m 8s/step - accuracy: 0.7876 - loss: 0.5355 - val_accuracy: 0.8558 - val_loss: 0.3191\n",
            "Epoch 9/20\n",
            "\u001b[1m81/81\u001b[0m \u001b[32m━━━━━━━━━━━━━━━━━━━━\u001b[0m\u001b[37m\u001b[0m \u001b[1m682s\u001b[0m 8s/step - accuracy: 0.7861 - loss: 0.5478 - val_accuracy: 0.8628 - val_loss: 0.3227\n",
            "Epoch 10/20\n",
            "\u001b[1m81/81\u001b[0m \u001b[32m━━━━━━━━━━━━━━━━━━━━\u001b[0m\u001b[37m\u001b[0m \u001b[1m672s\u001b[0m 8s/step - accuracy: 0.7844 - loss: 0.5328 - val_accuracy: 0.8581 - val_loss: 0.3112\n",
            "Epoch 11/20\n",
            "\u001b[1m81/81\u001b[0m \u001b[32m━━━━━━━━━━━━━━━━━━━━\u001b[0m\u001b[37m\u001b[0m \u001b[1m666s\u001b[0m 8s/step - accuracy: 0.7914 - loss: 0.5433 - val_accuracy: 0.8651 - val_loss: 0.2982\n",
            "Epoch 12/20\n",
            "\u001b[1m81/81\u001b[0m \u001b[32m━━━━━━━━━━━━━━━━━━━━\u001b[0m\u001b[37m\u001b[0m \u001b[1m667s\u001b[0m 8s/step - accuracy: 0.7884 - loss: 0.4907 - val_accuracy: 0.8651 - val_loss: 0.3015\n",
            "Epoch 13/20\n",
            "\u001b[1m81/81\u001b[0m \u001b[32m━━━━━━━━━━━━━━━━━━━━\u001b[0m\u001b[37m\u001b[0m \u001b[1m670s\u001b[0m 8s/step - accuracy: 0.7952 - loss: 0.4907 - val_accuracy: 0.8674 - val_loss: 0.3064\n",
            "Epoch 14/20\n",
            "\u001b[1m81/81\u001b[0m \u001b[32m━━━━━━━━━━━━━━━━━━━━\u001b[0m\u001b[37m\u001b[0m \u001b[1m672s\u001b[0m 8s/step - accuracy: 0.7975 - loss: 0.4880 - val_accuracy: 0.8721 - val_loss: 0.3064\n",
            "Epoch 15/20\n",
            "\u001b[1m81/81\u001b[0m \u001b[32m━━━━━━━━━━━━━━━━━━━━\u001b[0m\u001b[37m\u001b[0m \u001b[1m685s\u001b[0m 8s/step - accuracy: 0.8076 - loss: 0.4772 - val_accuracy: 0.8767 - val_loss: 0.2858\n",
            "Epoch 16/20\n",
            "\u001b[1m81/81\u001b[0m \u001b[32m━━━━━━━━━━━━━━━━━━━━\u001b[0m\u001b[37m\u001b[0m \u001b[1m682s\u001b[0m 8s/step - accuracy: 0.8058 - loss: 0.4644 - val_accuracy: 0.8814 - val_loss: 0.2830\n",
            "Epoch 17/20\n",
            "\u001b[1m81/81\u001b[0m \u001b[32m━━━━━━━━━━━━━━━━━━━━\u001b[0m\u001b[37m\u001b[0m \u001b[1m677s\u001b[0m 8s/step - accuracy: 0.8356 - loss: 0.4051 - val_accuracy: 0.8814 - val_loss: 0.2923\n",
            "Epoch 18/20\n",
            "\u001b[1m81/81\u001b[0m \u001b[32m━━━━━━━━━━━━━━━━━━━━\u001b[0m\u001b[37m\u001b[0m \u001b[1m677s\u001b[0m 8s/step - accuracy: 0.8261 - loss: 0.4186 - val_accuracy: 0.8791 - val_loss: 0.2939\n",
            "Epoch 19/20\n",
            "\u001b[1m81/81\u001b[0m \u001b[32m━━━━━━━━━━━━━━━━━━━━\u001b[0m\u001b[37m\u001b[0m \u001b[1m686s\u001b[0m 8s/step - accuracy: 0.8382 - loss: 0.4444 - val_accuracy: 0.8837 - val_loss: 0.2890\n",
            "Epoch 20/20\n",
            "\u001b[1m81/81\u001b[0m \u001b[32m━━━━━━━━━━━━━━━━━━━━\u001b[0m\u001b[37m\u001b[0m \u001b[1m673s\u001b[0m 8s/step - accuracy: 0.8247 - loss: 0.4209 - val_accuracy: 0.8884 - val_loss: 0.2865\n",
            "\u001b[1m7/7\u001b[0m \u001b[32m━━━━━━━━━━━━━━━━━━━━\u001b[0m\u001b[37m\u001b[0m \u001b[1m54s\u001b[0m 8s/step - accuracy: 0.8744 - loss: 0.3110\n",
            "Loss: 0.2970724105834961, Accuracy: 0.8715596199035645\n"
          ]
        },
        {
          "data": {
            "image/png": "[encoded data removed]",
            "text/plain": [
              "<Figure size 1200x600 with 2 Axes>"
            ]
          },
          "metadata": {},
          "output_type": "display_data"
        },
        {
          "name": "stdout",
          "output_type": "stream",
          "text": [
            "\u001b[1m7/7\u001b[0m \u001b[32m━━━━━━━━━━━━━━━━━━━━\u001b[0m\u001b[37m\u001b[0m \u001b[1m48s\u001b[0m 7s/step\n",
            "Classification Report\n",
            "              precision    recall  f1-score   support\n",
            "\n",
            "     Baroque       0.86      0.88      0.87       109\n",
            "   Modernist       0.88      0.86      0.87       109\n",
            "\n",
            "    accuracy                           0.87       218\n",
            "   macro avg       0.87      0.87      0.87       218\n",
            "weighted avg       0.87      0.87      0.87       218\n",
            "\n",
            "Confusion Matrix:\n",
            " [[96 13]\n",
            " [15 94]]\n"
          ]
        },
        {
          "data": {
            "image/png": "[encoded data removed]",
            "text/plain": [
              "<Figure size 800x600 with 2 Axes>"
            ]
          },
          "metadata": {},
          "output_type": "display_data"
        }
      ],
      "source": [
        "from tensorflow.keras.applications import VGG16\n",
        "from tensorflow.keras.models import Model\n",
        "from tensorflow.keras.layers import (\n",
        "    Dense, Dropout, Flatten, GlobalAveragePooling2D, BatchNormalization\n",
        ")\n",
        "from tensorflow.keras.preprocessing.image import ImageDataGenerator\n",
        "from tensorflow.keras.optimizers import Adam\n",
        "from tensorflow.keras.callbacks import EarlyStopping\n",
        "import matplotlib.pyplot as plt\n",
        "from sklearn.metrics import classification_report, confusion_matrix\n",
        "import numpy as np\n",
        "\n",
        "# Augmentasi dan Normalisasi Data\n",
        "train_datagen = ImageDataGenerator(\n",
        "    rescale=1.0/255,\n",
        "    rotation_range=30,\n",
        "    width_shift_range=0.2,\n",
        "    height_shift_range=0.2,\n",
        "    shear_range=0.2,\n",
        "    zoom_range=0.3,\n",
        "    horizontal_flip=True,\n",
        "    fill_mode='nearest'\n",
        ")\n",
        "\n",
        "val_test_datagen = ImageDataGenerator(rescale=1.0/255)\n",
        "\n",
        "train_dir_2 = '/content/drive/MyDrive/Colab Notebooks/Colab_DL/SplittedDataset/train'\n",
        "val_dir_2 = '/content/drive/MyDrive/Colab Notebooks/Colab_DL/SplittedDataset/val'\n",
        "test_dir_2 = '/content/drive/MyDrive/Colab Notebooks/Colab_DL/SplittedDataset/test'\n",
        "\n",
        "\n",
        "# Load dataset\n",
        "train_data = train_datagen.flow_from_directory(\n",
        "    train_dir_2,\n",
        "    target_size=(128, 128),\n",
        "    batch_size=32,\n",
        "    class_mode='categorical'\n",
        ")\n",
        "\n",
        "val_data = val_test_datagen.flow_from_directory(\n",
        "    val_dir_2,\n",
        "    target_size=(128, 128),\n",
        "    batch_size=32,\n",
        "    class_mode='categorical'\n",
        ")\n",
        "\n",
        "test_data = val_test_datagen.flow_from_directory(\n",
        "    test_dir_2,\n",
        "    target_size=(128, 128),\n",
        "    batch_size=32,\n",
        "    class_mode='categorical',\n",
        "    shuffle=False\n",
        ")\n",
        "\n",
        "# Transfer Learning dengan VGG16\n",
        "base_model = VGG16(weights='imagenet', include_top=False, input_shape=(128, 128, 3))\n",
        "\n",
        "# Freeze semua layer pretrained\n",
        "for layer in base_model.layers:\n",
        "    layer.trainable = False\n",
        "\n",
        "# Tambahkan lapisan baru di atas VGG16\n",
        "x = base_model.output\n",
        "x = GlobalAveragePooling2D()(x)  # Global Average Pooling untuk meratakan fitur\n",
        "x = Dense(256, activation='relu')(x)\n",
        "x = BatchNormalization()(x)\n",
        "x = Dropout(0.5)(x)\n",
        "x = Dense(128, activation='relu')(x)\n",
        "x = BatchNormalization()(x)\n",
        "x = Dropout(0.5)(x)\n",
        "predictions = Dense(2, activation='softmax')(x)  # Output layer untuk 2 kelas\n",
        "\n",
        "# Buat model baru\n",
        "model = Model(inputs=base_model.input, outputs=predictions)\n",
        "\n",
        "# Kompilasi model\n",
        "model.compile(\n",
        "    optimizer=Adam(learning_rate=0.0001),\n",
        "    loss='categorical_crossentropy',\n",
        "    metrics=['accuracy']\n",
        ")\n",
        "\n",
        "# Early stopping untuk mencegah overfitting\n",
        "early_stopping = EarlyStopping(monitor='val_loss', patience=5, restore_best_weights=True)\n",
        "\n",
        "# Latih model\n",
        "history = model.fit(\n",
        "    train_data,\n",
        "    validation_data=val_data,\n",
        "    epochs=20,\n",
        "    batch_size=32,\n",
        "    verbose=1,\n",
        "    callbacks=[early_stopping]\n",
        ")\n",
        "\n",
        "# Evaluasi model pada test set\n",
        "test_loss, test_accuracy = model.evaluate(test_data, verbose=1)\n",
        "print(f\"Loss: {test_loss}, Accuracy: {test_accuracy}\")\n",
        "\n",
        "# Visualisasi hasil training\n",
        "def plot_training_history(history):\n",
        "    # Akurasi\n",
        "    plt.figure(figsize=(12, 6))\n",
        "    plt.subplot(1, 2, 1)\n",
        "    plt.plot(history.history['accuracy'], label='Training Accuracy')\n",
        "    plt.plot(history.history['val_accuracy'], label='Validation Accuracy')\n",
        "    plt.title('Training and Validation Accuracy')\n",
        "    plt.xlabel('Epochs')\n",
        "    plt.ylabel('Accuracy')\n",
        "    plt.legend()\n",
        "\n",
        "    # Loss\n",
        "    plt.subplot(1, 2, 2)\n",
        "    plt.plot(history.history['loss'], label='Training Loss')\n",
        "    plt.plot(history.history['val_loss'], label='Validation Loss')\n",
        "    plt.title('Training and Validation Loss')\n",
        "    plt.xlabel('Epochs')\n",
        "    plt.ylabel('Loss')\n",
        "    plt.legend()\n",
        "    plt.show()\n",
        "\n",
        "plot_training_history(history)\n",
        "\n",
        "# Classification Report\n",
        "predictions = model.predict(test_data)\n",
        "predicted_classes = np.argmax(predictions, axis=1)\n",
        "true_classes = test_data.classes\n",
        "class_labels = list(test_data.class_indices.keys())\n",
        "\n",
        "print(\"Classification Report\")\n",
        "print(classification_report(true_classes, predicted_classes, target_names=class_labels))\n",
        "\n",
        "# Confusion Matrix\n",
        "conf_matrix = confusion_matrix(true_classes, predicted_classes)\n",
        "print(\"Confusion Matrix:\\n\", conf_matrix)\n",
        "\n",
        "# Plot Confusion Matrix\n",
        "plt.figure(figsize=(8, 6))\n",
        "plt.matshow(conf_matrix, cmap=plt.cm.Blues, fignum=1)\n",
        "plt.colorbar()\n",
        "plt.xlabel('Predicted')\n",
        "plt.ylabel('Actual')\n",
        "plt.xticks(range(len(class_labels)), class_labels, rotation=45)\n",
        "plt.yticks(range(len(class_labels)), class_labels)\n",
        "plt.title('Confusion Matrix')\n",
        "plt.show()\n"
      ]
    },
    {
      "cell_type": "markdown",
      "source": [
        "# ***Tugas Hyperparameter Tuning***"
      ],
      "metadata": {
        "id": "rUORR6iEV_ou"
      }
    },
    {
      "cell_type": "markdown",
      "source": [
        "Berdasarkan penggunaan model arsitektur CNN untuk klasifikasi gambar antara gaya arsitektur Baroque dan Modernist yang telah dibuat sebelumnya, akan dilakukan hyperparameter tuning yaitu pencarian kombinasi parameter terbaik dengan tujuan untuk meningkatkan performa dari model.\n",
        "\n",
        "Memanfaatan hyperparameter tuning tools bernama Optuna, dengan penggunaan model optimasi bayesian (default) yang dianggap lebih efisien daripada model optimasi lainnya. Proses iterasi (trial) menggunakan model probabilistik untuk mencari kombinasi hyperparameter terbaik secara otomatis. Bayesian Optimization adalah proses iteratif, di mana hasil sebelumnya digunakan untuk memperbarui model probabilistik yang memandu pencarian hyperparameter. Dalam Optuna, proses ini dilakukan oleh TPE Sampler secara default.\n"
      ],
      "metadata": {
        "id": "lYiTeqlYWE1B"
      }
    },
    {
      "cell_type": "markdown",
      "source": [
        "Definisi nilai hyperparameter yang dioptimasi. Hyperparameter yang dipilih mencakup aspek arsitektur model (jumlah filter, dense units) dan proses pelatihan (dropout rate, learning rate).   \n",
        "\n",
        "1. Jumlah Filter pada Convolutional Layer, digunakan untuk mengekstraksi fitur dari gambar, seperti tepi, pola, atau tekstur.\n",
        "\n",
        "    value : [32, 64, 128, 256]\n",
        "  - 32 filter menangkap pola sederhana seperti garis.\n",
        "  - 256 filter menangkap pola yang lebih kompleks.\n",
        "\n",
        "  Menambahkan lebih banyak filter dapat meningkatkan kemampuan representasi, tetapi terlalu banyak filter bisa membuat model menjadi berat dan overfitting.\n",
        "\n",
        "2. Dropout Rate, teknik regulasi yang secara acak \"mematikan\" sebagian neuron selama pelatihan untuk mencegah overfitting.\n",
        "\n",
        "    value : [0.2, 0.3, 0.4, 0.5]\n",
        "\n",
        "  Dropout membantu model menjadi lebih general dan tidak terlalu bergantung pada pola tertentu di data training. Semakin tinggi dropout (misalnya 0.5), semakin agresif regulasinya. Namun, dropout yang terlalu tinggi bisa menghambat model belajar.\n",
        "\n",
        "3. Learning Rate, mengontrol kecepatan model memperbarui bobotnya selama training.\n",
        "\n",
        "    value : [0.0001, 0.001, 0.01] (log scale)\n",
        "\n",
        "   - Learning rate yang terlalu besar (misalnya 0.01) bisa membuat model melewatkan solusi optimal (oscillation).\n",
        "   - Learning rate yang terlalu kecil (misalnya 0.0001) membuat model belajar terlalu lambat.\n",
        "\n",
        "  Skala logaritmik digunakan karena perubahan kecil dalam learning rate dapat memiliki dampak besar.\n",
        "\n",
        "4. Dense Units pada Fully Connected Layer, jumlah neuron di fully connected layer terakhir sebelum output.\n",
        "\n",
        "    value : [64, 128, 256]\n",
        "\n",
        "    - Unit yang lebih kecil (64) mungkin tidak cukup untuk mempelajari pola kompleks.\n",
        "    - Unit yang besar (256) memberikan kapasitas lebih besar tetapi membutuhkan waktu pelatihan lebih lama."
      ],
      "metadata": {
        "id": "AYfV_fL-qi_E"
      }
    },
    {
      "cell_type": "markdown",
      "metadata": {
        "id": "y8GJSaEpN7D8"
      },
      "source": [
        "# Hyperparameter Tuning"
      ]
    },
    {
      "cell_type": "code",
      "execution_count": 9,
      "metadata": {
        "id": "xC1mlCTlOpVS"
      },
      "outputs": [],
      "source": [
        "# File Pendekatan 1\n",
        "train_dir_1 = '/content/drive/MyDrive/Colab Notebooks/Colab_DL/SplittedBalancedSampleDataset/train'\n",
        "val_dir_1 = '/content/drive/MyDrive/Colab Notebooks/Colab_DL/SplittedBalancedSampleDataset/val'\n",
        "test_dir_1 = '/content/drive/MyDrive/Colab Notebooks/Colab_DL/SplittedBalancedSampleDataset/test'\n",
        "\n",
        "# # File Pendekata 2\n",
        "# train_dir_2 = '/content/drive/MyDrive/Colab Notebooks/Colab_DL/SplittedDataset/train'\n",
        "# val_dir_2 = '/content/drive/MyDrive/Colab Notebooks/Colab_DL/SplittedDataset/val'\n",
        "# test_dir_2 = '/content/drive/MyDrive/Colab Notebooks/Colab_DL/SplittedDataset/test'"
      ]
    },
    {
      "cell_type": "code",
      "execution_count": 3,
      "metadata": {
        "id": "6HkXea8APhjR",
        "collapsed": true,
        "colab": {
          "base_uri": "https://localhost:8080/"
        },
        "outputId": "ae723ac4-13a7-4d66-f1ac-126eef00902b"
      },
      "outputs": [
        {
          "output_type": "stream",
          "name": "stdout",
          "text": [
            "\u001b[?25l   \u001b[90m━━━━━━━━━━━━━━━━━━━━━━━━━━━━━━━━━━━━━━━━\u001b[0m \u001b[32m0.0/129.1 kB\u001b[0m \u001b[31m?\u001b[0m eta \u001b[36m-:--:--\u001b[0m\r\u001b[2K   \u001b[91m━━━━━━━━━━━━━━━━━━━━━━━━━━━━\u001b[0m\u001b[91m╸\u001b[0m\u001b[90m━━━━━━━━━━━\u001b[0m \u001b[32m92.2/129.1 kB\u001b[0m \u001b[31m2.6 MB/s\u001b[0m eta \u001b[36m0:00:01\u001b[0m\r\u001b[2K   \u001b[90m━━━━━━━━━━━━━━━━━━━━━━━━━━━━━━━━━━━━━━━━\u001b[0m \u001b[32m129.1/129.1 kB\u001b[0m \u001b[31m2.7 MB/s\u001b[0m eta \u001b[36m0:00:00\u001b[0m\n",
            "\u001b[?25h"
          ]
        }
      ],
      "source": [
        "!pip install keras-tuner -q"
      ]
    },
    {
      "cell_type": "markdown",
      "source": [
        "Load dataset pendekatan 1 yang akan digunakan untuk hyperparameter tuning"
      ],
      "metadata": {
        "id": "jQaaiCAbuZ8r"
      }
    },
    {
      "cell_type": "code",
      "execution_count": 11,
      "metadata": {
        "colab": {
          "base_uri": "https://localhost:8080/"
        },
        "id": "FmyVaVX9QQpB",
        "outputId": "507ab848-9cac-4801-b33a-e867973af89b",
        "collapsed": true
      },
      "outputs": [
        {
          "output_type": "stream",
          "name": "stdout",
          "text": [
            "Found 1510 images belonging to 2 classes.\n",
            "Found 430 images belonging to 2 classes.\n",
            "Found 218 images belonging to 2 classes.\n"
          ]
        }
      ],
      "source": [
        "from tensorflow.keras.preprocessing.image import ImageDataGenerator\n",
        "\n",
        "# Augmentasi dan Normalisasi Data\n",
        "train_datagen = ImageDataGenerator(\n",
        "    rescale=1.0/255,\n",
        "    rotation_range=30,\n",
        "    width_shift_range=0.2,\n",
        "    height_shift_range=0.2,\n",
        "    shear_range=0.2,\n",
        "    zoom_range=0.3,\n",
        "    horizontal_flip=True,\n",
        "    fill_mode='nearest'\n",
        ")\n",
        "\n",
        "val_test_datagen = ImageDataGenerator(rescale=1.0/255)\n",
        "\n",
        "train_dir_1 = '/content/drive/MyDrive/Colab Notebooks/Colab_DL/SplittedBalancedSampleDataset/train'\n",
        "val_dir_1 = '/content/drive/MyDrive/Colab Notebooks/Colab_DL/SplittedBalancedSampleDataset/val'\n",
        "test_dir_1 = '/content/drive/MyDrive/Colab Notebooks/Colab_DL/SplittedBalancedSampleDataset/test'\n",
        "\n",
        "\n",
        "# Load dataset\n",
        "train_data_1 = train_datagen.flow_from_directory(\n",
        "    train_dir_1,\n",
        "    target_size=(128, 128),\n",
        "    batch_size=32,\n",
        "    class_mode='categorical'\n",
        ")\n",
        "\n",
        "val_data_1 = val_test_datagen.flow_from_directory(\n",
        "    val_dir_1,\n",
        "    target_size=(128, 128),\n",
        "    batch_size=32,\n",
        "    class_mode='categorical'\n",
        ")\n",
        "\n",
        "test_data_1 = val_test_datagen.flow_from_directory(\n",
        "    test_dir_1,\n",
        "    target_size=(128, 128),\n",
        "    batch_size=32,\n",
        "    class_mode='categorical',\n",
        "    shuffle=False\n",
        ")"
      ]
    },
    {
      "cell_type": "code",
      "execution_count": 5,
      "metadata": {
        "colab": {
          "base_uri": "https://localhost:8080/"
        },
        "collapsed": true,
        "id": "FOgo3T14hHWv",
        "outputId": "17849d67-8229-4f6f-aff7-f9e46f2e6128"
      },
      "outputs": [
        {
          "output_type": "stream",
          "name": "stdout",
          "text": [
            "Collecting optuna\n",
            "  Downloading optuna-4.1.0-py3-none-any.whl.metadata (16 kB)\n",
            "Collecting alembic>=1.5.0 (from optuna)\n",
            "  Downloading alembic-1.14.0-py3-none-any.whl.metadata (7.4 kB)\n",
            "Collecting colorlog (from optuna)\n",
            "  Downloading colorlog-6.9.0-py3-none-any.whl.metadata (10 kB)\n",
            "Requirement already satisfied: numpy in /usr/local/lib/python3.10/dist-packages (from optuna) (1.26.4)\n",
            "Requirement already satisfied: packaging>=20.0 in /usr/local/lib/python3.10/dist-packages (from optuna) (24.2)\n",
            "Requirement already satisfied: sqlalchemy>=1.4.2 in /usr/local/lib/python3.10/dist-packages (from optuna) (2.0.36)\n",
            "Requirement already satisfied: tqdm in /usr/local/lib/python3.10/dist-packages (from optuna) (4.66.6)\n",
            "Requirement already satisfied: PyYAML in /usr/local/lib/python3.10/dist-packages (from optuna) (6.0.2)\n",
            "Collecting Mako (from alembic>=1.5.0->optuna)\n",
            "  Downloading Mako-1.3.6-py3-none-any.whl.metadata (2.9 kB)\n",
            "Requirement already satisfied: typing-extensions>=4 in /usr/local/lib/python3.10/dist-packages (from alembic>=1.5.0->optuna) (4.12.2)\n",
            "Requirement already satisfied: greenlet!=0.4.17 in /usr/local/lib/python3.10/dist-packages (from sqlalchemy>=1.4.2->optuna) (3.1.1)\n",
            "Requirement already satisfied: MarkupSafe>=0.9.2 in /usr/local/lib/python3.10/dist-packages (from Mako->alembic>=1.5.0->optuna) (3.0.2)\n",
            "Downloading optuna-4.1.0-py3-none-any.whl (364 kB)\n",
            "\u001b[2K   \u001b[90m━━━━━━━━━━━━━━━━━━━━━━━━━━━━━━━━━━━━━━━━\u001b[0m \u001b[32m364.4/364.4 kB\u001b[0m \u001b[31m6.7 MB/s\u001b[0m eta \u001b[36m0:00:00\u001b[0m\n",
            "\u001b[?25hDownloading alembic-1.14.0-py3-none-any.whl (233 kB)\n",
            "\u001b[2K   \u001b[90m━━━━━━━━━━━━━━━━━━━━━━━━━━━━━━━━━━━━━━━━\u001b[0m \u001b[32m233.5/233.5 kB\u001b[0m \u001b[31m17.7 MB/s\u001b[0m eta \u001b[36m0:00:00\u001b[0m\n",
            "\u001b[?25hDownloading colorlog-6.9.0-py3-none-any.whl (11 kB)\n",
            "Downloading Mako-1.3.6-py3-none-any.whl (78 kB)\n",
            "\u001b[2K   \u001b[90m━━━━━━━━━━━━━━━━━━━━━━━━━━━━━━━━━━━━━━━━\u001b[0m \u001b[32m78.6/78.6 kB\u001b[0m \u001b[31m7.2 MB/s\u001b[0m eta \u001b[36m0:00:00\u001b[0m\n",
            "\u001b[?25hInstalling collected packages: Mako, colorlog, alembic, optuna\n",
            "Successfully installed Mako-1.3.6 alembic-1.14.0 colorlog-6.9.0 optuna-4.1.0\n"
          ]
        }
      ],
      "source": [
        "# install tool hyperparameter tuning optuna\n",
        "!pip install optuna"
      ]
    },
    {
      "cell_type": "markdown",
      "source": [
        "# Melakukan beberapa kali percobaan hyperparameter tuning dengan epoch dan trial yang berbeda"
      ],
      "metadata": {
        "id": "GTVMe5_ju_IA"
      }
    },
    {
      "cell_type": "markdown",
      "source": [
        "# Percobaan 1"
      ],
      "metadata": {
        "id": "6ugjDCGXx4G6"
      }
    },
    {
      "cell_type": "markdown",
      "source": [
        "Percobaan dengan epoch 20 dan trial 20, namun ouput tidak berhasil selesai karena melebihi batas waktu runtime yang ditentukan colab (<12jam)."
      ],
      "metadata": {
        "id": "hin9bsstvLYa"
      }
    },
    {
      "cell_type": "code",
      "execution_count": null,
      "metadata": {
        "colab": {
          "base_uri": "https://localhost:8080/"
        },
        "id": "Gy7AY1bRhDCN",
        "outputId": "79d8130e-f825-4c91-ec85-f8fb8ddffd89"
      },
      "outputs": [
        {
          "output_type": "stream",
          "name": "stderr",
          "text": [
            "[I 2024-11-26 13:48:28,052] A new study created in memory with name: no-name-23cc45ae-b70c-421f-8740-eb50dfd97cba\n",
            "<ipython-input-7-52c15582d78e>:20: FutureWarning: suggest_loguniform has been deprecated in v3.0.0. This feature will be removed in v6.0.0. See https://github.com/optuna/optuna/releases/tag/v3.0.0. Use suggest_float(..., log=True) instead.\n",
            "  learning_rate = trial.suggest_loguniform(\"learning_rate\", 1e-4, 1e-2)\n",
            "/usr/local/lib/python3.10/dist-packages/keras/src/layers/convolutional/base_conv.py:107: UserWarning: Do not pass an `input_shape`/`input_dim` argument to a layer. When using Sequential models, prefer using an `Input(shape)` object as the first layer in the model instead.\n",
            "  super().__init__(activity_regularizer=activity_regularizer, **kwargs)\n",
            "/usr/local/lib/python3.10/dist-packages/keras/src/trainers/data_adapters/py_dataset_adapter.py:122: UserWarning: Your `PyDataset` class should call `super().__init__(**kwargs)` in its constructor. `**kwargs` can include `workers`, `use_multiprocessing`, `max_queue_size`. Do not pass these arguments to `fit()`, as they will be ignored.\n",
            "  self._warn_if_super_not_called()\n",
            "[I 2024-11-26 14:33:44,800] Trial 0 finished with value: 0.7232558131217957 and parameters: {'filters_1': 32, 'filters_2': 64, 'filters_3': 256, 'dropout_1': 0.43454719185681634, 'dropout_2': 0.4837350364858644, 'dropout_3': 0.32333399231748156, 'dense_units': 128, 'dropout_fc': 0.4032541587475848, 'learning_rate': 0.00047066797625307786}. Best is trial 0 with value: 0.7232558131217957.\n",
            "<ipython-input-7-52c15582d78e>:20: FutureWarning: suggest_loguniform has been deprecated in v3.0.0. This feature will be removed in v6.0.0. See https://github.com/optuna/optuna/releases/tag/v3.0.0. Use suggest_float(..., log=True) instead.\n",
            "  learning_rate = trial.suggest_loguniform(\"learning_rate\", 1e-4, 1e-2)\n",
            "/usr/local/lib/python3.10/dist-packages/keras/src/layers/convolutional/base_conv.py:107: UserWarning: Do not pass an `input_shape`/`input_dim` argument to a layer. When using Sequential models, prefer using an `Input(shape)` object as the first layer in the model instead.\n",
            "  super().__init__(activity_regularizer=activity_regularizer, **kwargs)\n",
            "[I 2024-11-26 15:30:55,167] Trial 1 finished with value: 0.7279070019721985 and parameters: {'filters_1': 64, 'filters_2': 64, 'filters_3': 256, 'dropout_1': 0.3886222917041514, 'dropout_2': 0.4885959666504242, 'dropout_3': 0.38954062946955004, 'dense_units': 256, 'dropout_fc': 0.47054307940433243, 'learning_rate': 0.00033601358753135264}. Best is trial 1 with value: 0.7279070019721985.\n",
            "[I 2024-11-26 18:01:38,051] Trial 2 finished with value: 0.739534854888916 and parameters: {'filters_1': 128, 'filters_2': 256, 'filters_3': 256, 'dropout_1': 0.2482555170374313, 'dropout_2': 0.20927110596036325, 'dropout_3': 0.40179539008026544, 'dense_units': 64, 'dropout_fc': 0.4151201549611242, 'learning_rate': 0.00013540881786560627}. Best is trial 2 with value: 0.739534854888916.\n",
            "[I 2024-11-26 19:30:01,761] Trial 3 finished with value: 0.7488372325897217 and parameters: {'filters_1': 64, 'filters_2': 256, 'filters_3': 128, 'dropout_1': 0.20929408020323875, 'dropout_2': 0.4286683360945853, 'dropout_3': 0.40919791441596454, 'dense_units': 64, 'dropout_fc': 0.3000931731989504, 'learning_rate': 0.00024328012554042917}. Best is trial 3 with value: 0.7488372325897217.\n",
            "[I 2024-11-26 19:52:39,188] Trial 4 finished with value: 0.5 and parameters: {'filters_1': 64, 'filters_2': 128, 'filters_3': 256, 'dropout_1': 0.22685864306186357, 'dropout_2': 0.2530827001566156, 'dropout_3': 0.32426484855918447, 'dense_units': 64, 'dropout_fc': 0.4592701110005679, 'learning_rate': 0.004837306626077364}. Best is trial 3 with value: 0.7488372325897217.\n",
            "[I 2024-11-26 20:18:14,433] Trial 5 finished with value: 0.5 and parameters: {'filters_1': 32, 'filters_2': 256, 'filters_3': 128, 'dropout_1': 0.21577352904852695, 'dropout_2': 0.3388094191141079, 'dropout_3': 0.3501627011268574, 'dense_units': 256, 'dropout_fc': 0.3280230185820671, 'learning_rate': 0.0006273158609113939}. Best is trial 3 with value: 0.7488372325897217.\n",
            "[I 2024-11-26 21:23:47,523] Trial 6 finished with value: 0.7511627674102783 and parameters: {'filters_1': 32, 'filters_2': 256, 'filters_3': 128, 'dropout_1': 0.32532751573694446, 'dropout_2': 0.29882195165932035, 'dropout_3': 0.3013246195846167, 'dense_units': 256, 'dropout_fc': 0.48673860836425087, 'learning_rate': 0.0009876664042632666}. Best is trial 6 with value: 0.7511627674102783.\n",
            "[I 2024-11-26 21:45:41,499] Trial 7 finished with value: 0.5 and parameters: {'filters_1': 32, 'filters_2': 256, 'filters_3': 128, 'dropout_1': 0.2710926978639042, 'dropout_2': 0.29250848997727974, 'dropout_3': 0.3877070877073882, 'dense_units': 64, 'dropout_fc': 0.31015890924556827, 'learning_rate': 0.0018665618576570397}. Best is trial 6 with value: 0.7511627674102783.\n",
            "[I 2024-11-26 22:28:20,577] Trial 8 finished with value: 0.7162790894508362 and parameters: {'filters_1': 32, 'filters_2': 64, 'filters_3': 256, 'dropout_1': 0.21696595730549983, 'dropout_2': 0.3096694869230752, 'dropout_3': 0.329457972625631, 'dense_units': 64, 'dropout_fc': 0.3869666162738809, 'learning_rate': 0.00013923517006621605}. Best is trial 6 with value: 0.7511627674102783.\n",
            "[I 2024-11-27 00:46:13,678] Trial 9 finished with value: 0.7325581312179565 and parameters: {'filters_1': 128, 'filters_2': 256, 'filters_3': 128, 'dropout_1': 0.4610900859948161, 'dropout_2': 0.406760944480703, 'dropout_3': 0.4586490744388453, 'dense_units': 128, 'dropout_fc': 0.40073045568069193, 'learning_rate': 0.00023115493953536259}. Best is trial 6 with value: 0.7511627674102783.\n",
            "[I 2024-11-27 01:06:16,615] Trial 10 finished with value: 0.5 and parameters: {'filters_1': 32, 'filters_2': 128, 'filters_3': 128, 'dropout_1': 0.3259956776728227, 'dropout_2': 0.398356254544571, 'dropout_3': 0.49213954842667224, 'dense_units': 256, 'dropout_fc': 0.4988453685269668, 'learning_rate': 0.0016514416345394564}. Best is trial 6 with value: 0.7511627674102783.\n",
            "[I 2024-11-27 01:33:22,357] Trial 11 finished with value: 0.5534883737564087 and parameters: {'filters_1': 64, 'filters_2': 256, 'filters_3': 128, 'dropout_1': 0.30617908591049103, 'dropout_2': 0.3949269499120758, 'dropout_3': 0.43103670584654535, 'dense_units': 256, 'dropout_fc': 0.36110258101934367, 'learning_rate': 0.0011923721201671665}. Best is trial 6 with value: 0.7511627674102783.\n"
          ]
        }
      ],
      "source": [
        "import optuna\n",
        "from tensorflow.keras.models import Sequential\n",
        "from tensorflow.keras.layers import (\n",
        "    Conv2D, MaxPooling2D, Flatten, Dense, Dropout\n",
        ")\n",
        "from tensorflow.keras.optimizers import Adam\n",
        "from tensorflow.keras.callbacks import EarlyStopping\n",
        "\n",
        "# Fungsi untuk tuning\n",
        "def objective(trial):\n",
        "    # Hyperparameter yang akan dioptimalkan\n",
        "    filters_1 = trial.suggest_categorical(\"filters_1\", [32, 64, 128])\n",
        "    filters_2 = trial.suggest_categorical(\"filters_2\", [64, 128, 256])\n",
        "    filters_3 = trial.suggest_categorical(\"filters_3\", [128, 256])\n",
        "    dropout_1 = trial.suggest_float(\"dropout_1\", 0.2, 0.5)\n",
        "    dropout_2 = trial.suggest_float(\"dropout_2\", 0.2, 0.5)\n",
        "    dropout_3 = trial.suggest_float(\"dropout_3\", 0.3, 0.5)\n",
        "    dense_units = trial.suggest_categorical(\"dense_units\", [64, 128, 256])\n",
        "    dropout_fc = trial.suggest_float(\"dropout_fc\", 0.3, 0.5)\n",
        "    learning_rate = trial.suggest_loguniform(\"learning_rate\", 1e-4, 1e-2)\n",
        "\n",
        "    # Membuat model\n",
        "    model = Sequential([\n",
        "        Conv2D(filters_1, (3, 3), activation='relu', input_shape=(128, 128, 3)),\n",
        "        MaxPooling2D(pool_size=(2, 2)),\n",
        "        Dropout(dropout_1),\n",
        "\n",
        "        Conv2D(filters_2, (3, 3), activation='relu'),\n",
        "        MaxPooling2D(pool_size=(2, 2)),\n",
        "        Dropout(dropout_2),\n",
        "\n",
        "        Conv2D(filters_3, (3, 3), activation='relu'),\n",
        "        MaxPooling2D(pool_size=(2, 2)),\n",
        "        Dropout(dropout_3),\n",
        "\n",
        "        Flatten(),\n",
        "        Dense(dense_units, activation='relu'),\n",
        "        Dropout(dropout_fc),\n",
        "        Dense(2, activation='softmax')\n",
        "    ])\n",
        "\n",
        "    model.compile(\n",
        "        optimizer=Adam(learning_rate=learning_rate),\n",
        "        loss='categorical_crossentropy',\n",
        "        metrics=['accuracy']\n",
        "    )\n",
        "\n",
        "    # Callback untuk early stopping\n",
        "    early_stopping = EarlyStopping(monitor='val_loss', patience=5, restore_best_weights=True)\n",
        "\n",
        "    # Melatih model\n",
        "    history = model.fit(\n",
        "        train_data_1,\n",
        "        validation_data=val_data_1,\n",
        "        epochs=20,\n",
        "        batch_size=32,\n",
        "        callbacks=[early_stopping],\n",
        "        verbose=0\n",
        "    )\n",
        "\n",
        "    # Return akurasi validasi terbaik\n",
        "    return max(history.history['val_accuracy'])\n",
        "\n",
        "# Jalankan optimisasi dengan Optuna\n",
        "study = optuna.create_study(direction=\"maximize\")\n",
        "study.optimize(objective, n_trials=20)\n",
        "\n",
        "# Hasil terbaik\n",
        "print(\"Best hyperparameters: \", study.best_params)\n"
      ]
    },
    {
      "cell_type": "markdown",
      "source": [
        "best_params_percobaan_1 (value : 0.7511627674102783) = {\n",
        "\n",
        "    'filters_1': 32,\n",
        "    'filters_2': 256,\n",
        "    'filters_3': 128,\n",
        "    'dropout_1': 0.32532751573694446,\n",
        "    'dropout_2': 0.29882195165932035,\n",
        "    'dropout_3': 0.3013246195846167,\n",
        "    'dense_units': 256,\n",
        "    'dropout_fc': 0.48673860836425087,\n",
        "    'learning_rate': 0.0009876664042632666\n",
        "}"
      ],
      "metadata": {
        "id": "iTmUr6ixviqK"
      }
    },
    {
      "cell_type": "markdown",
      "source": [
        "# Percobaan 2"
      ],
      "metadata": {
        "id": "JwhvQNNcx91A"
      }
    },
    {
      "cell_type": "markdown",
      "source": [
        "Percobaan dengan epoch 10 dan trial 10"
      ],
      "metadata": {
        "id": "_eXiruhYwuoP"
      }
    },
    {
      "cell_type": "code",
      "source": [
        "import optuna\n",
        "from tensorflow.keras.models import Sequential\n",
        "from tensorflow.keras.layers import (\n",
        "    Conv2D, MaxPooling2D, Flatten, Dense, Dropout\n",
        ")\n",
        "from tensorflow.keras.optimizers import Adam\n",
        "from tensorflow.keras.callbacks import EarlyStopping\n",
        "\n",
        "# Fungsi untuk tuning\n",
        "def objective(trial):\n",
        "    # Hyperparameter yang akan dioptimalkan\n",
        "    filters_1 = trial.suggest_categorical(\"filters_1\", [32, 64, 128])\n",
        "    filters_2 = trial.suggest_categorical(\"filters_2\", [64, 128, 256])\n",
        "    filters_3 = trial.suggest_categorical(\"filters_3\", [128, 256])\n",
        "    dropout_1 = trial.suggest_float(\"dropout_1\", 0.2, 0.5)\n",
        "    dropout_2 = trial.suggest_float(\"dropout_2\", 0.2, 0.5)\n",
        "    dropout_3 = trial.suggest_float(\"dropout_3\", 0.3, 0.5)\n",
        "    dense_units = trial.suggest_categorical(\"dense_units\", [64, 128, 256])\n",
        "    dropout_fc = trial.suggest_float(\"dropout_fc\", 0.3, 0.5)\n",
        "    learning_rate = trial.suggest_loguniform(\"learning_rate\", 1e-4, 1e-2)\n",
        "\n",
        "    # Membuat model\n",
        "    model = Sequential([\n",
        "        Conv2D(filters_1, (3, 3), activation='relu', input_shape=(128, 128, 3)),\n",
        "        MaxPooling2D(pool_size=(2, 2)),\n",
        "        Dropout(dropout_1),\n",
        "\n",
        "        Conv2D(filters_2, (3, 3), activation='relu'),\n",
        "        MaxPooling2D(pool_size=(2, 2)),\n",
        "        Dropout(dropout_2),\n",
        "\n",
        "        Conv2D(filters_3, (3, 3), activation='relu'),\n",
        "        MaxPooling2D(pool_size=(2, 2)),\n",
        "        Dropout(dropout_3),\n",
        "\n",
        "        Flatten(),\n",
        "        Dense(dense_units, activation='relu'),\n",
        "        Dropout(dropout_fc),\n",
        "        Dense(2, activation='softmax')\n",
        "    ])\n",
        "\n",
        "    model.compile(\n",
        "        optimizer=Adam(learning_rate=learning_rate),\n",
        "        loss='categorical_crossentropy',\n",
        "        metrics=['accuracy']\n",
        "    )\n",
        "\n",
        "    # Callback untuk early stopping\n",
        "    early_stopping = EarlyStopping(monitor='val_loss', patience=5, restore_best_weights=True)\n",
        "\n",
        "    # Melatih model\n",
        "    history = model.fit(\n",
        "        train_data_1,\n",
        "        validation_data=val_data_1,\n",
        "        epochs=10,\n",
        "        batch_size=32,\n",
        "        callbacks=[early_stopping],\n",
        "        verbose=0\n",
        "    )\n",
        "\n",
        "    # Return akurasi validasi terbaik\n",
        "    return max(history.history['val_accuracy'])\n",
        "\n",
        "# Jalankan optimisasi dengan Optuna\n",
        "study = optuna.create_study(direction=\"maximize\")\n",
        "study.optimize(objective, n_trials=10)\n",
        "\n",
        "# Hasil terbaik\n",
        "print(\"Best hyperparameters: \", study.best_params)\n"
      ],
      "metadata": {
        "colab": {
          "base_uri": "https://localhost:8080/"
        },
        "id": "fj-snMw82KuA",
        "outputId": "59bff1f0-4396-4323-bf03-90bc160ed70e"
      },
      "execution_count": null,
      "outputs": [
        {
          "output_type": "stream",
          "name": "stderr",
          "text": [
            "[I 2024-11-27 03:17:40,324] A new study created in memory with name: no-name-9873fc96-9935-4674-a1ad-711facba5e92\n",
            "<ipython-input-6-b58350a5333c>:20: FutureWarning: suggest_loguniform has been deprecated in v3.0.0. This feature will be removed in v6.0.0. See https://github.com/optuna/optuna/releases/tag/v3.0.0. Use suggest_float(..., log=True) instead.\n",
            "  learning_rate = trial.suggest_loguniform(\"learning_rate\", 1e-4, 1e-2)\n",
            "/usr/local/lib/python3.10/dist-packages/keras/src/layers/convolutional/base_conv.py:107: UserWarning: Do not pass an `input_shape`/`input_dim` argument to a layer. When using Sequential models, prefer using an `Input(shape)` object as the first layer in the model instead.\n",
            "  super().__init__(activity_regularizer=activity_regularizer, **kwargs)\n",
            "/usr/local/lib/python3.10/dist-packages/keras/src/trainers/data_adapters/py_dataset_adapter.py:122: UserWarning: Your `PyDataset` class should call `super().__init__(**kwargs)` in its constructor. `**kwargs` can include `workers`, `use_multiprocessing`, `max_queue_size`. Do not pass these arguments to `fit()`, as they will be ignored.\n",
            "  self._warn_if_super_not_called()\n",
            "[I 2024-11-27 04:09:15,043] Trial 0 finished with value: 0.7139534950256348 and parameters: {'filters_1': 128, 'filters_2': 128, 'filters_3': 128, 'dropout_1': 0.31622044164394586, 'dropout_2': 0.2736611490857599, 'dropout_3': 0.305384942404621, 'dense_units': 64, 'dropout_fc': 0.40248673588153216, 'learning_rate': 0.00040320899297129526}. Best is trial 0 with value: 0.7139534950256348.\n",
            "<ipython-input-6-b58350a5333c>:20: FutureWarning: suggest_loguniform has been deprecated in v3.0.0. This feature will be removed in v6.0.0. See https://github.com/optuna/optuna/releases/tag/v3.0.0. Use suggest_float(..., log=True) instead.\n",
            "  learning_rate = trial.suggest_loguniform(\"learning_rate\", 1e-4, 1e-2)\n",
            "/usr/local/lib/python3.10/dist-packages/keras/src/layers/convolutional/base_conv.py:107: UserWarning: Do not pass an `input_shape`/`input_dim` argument to a layer. When using Sequential models, prefer using an `Input(shape)` object as the first layer in the model instead.\n",
            "  super().__init__(activity_regularizer=activity_regularizer, **kwargs)\n",
            "[I 2024-11-27 04:41:27,780] Trial 1 finished with value: 0.6860465407371521 and parameters: {'filters_1': 64, 'filters_2': 128, 'filters_3': 128, 'dropout_1': 0.44169248137176853, 'dropout_2': 0.49582760467084697, 'dropout_3': 0.4374454565359536, 'dense_units': 256, 'dropout_fc': 0.4407010252284459, 'learning_rate': 0.00014375609382076437}. Best is trial 0 with value: 0.7139534950256348.\n",
            "[I 2024-11-27 04:53:30,821] Trial 2 finished with value: 0.5162790417671204 and parameters: {'filters_1': 32, 'filters_2': 64, 'filters_3': 128, 'dropout_1': 0.2625117764942716, 'dropout_2': 0.38676938711934017, 'dropout_3': 0.32116803485007733, 'dense_units': 128, 'dropout_fc': 0.3983456596941538, 'learning_rate': 0.0024614572168179007}. Best is trial 0 with value: 0.7139534950256348.\n",
            "[I 2024-11-27 05:22:56,580] Trial 3 finished with value: 0.6720930337905884 and parameters: {'filters_1': 32, 'filters_2': 128, 'filters_3': 256, 'dropout_1': 0.49468989027761023, 'dropout_2': 0.3833083513293174, 'dropout_3': 0.42373179190463645, 'dense_units': 64, 'dropout_fc': 0.4232568788254577, 'learning_rate': 0.00012961847918239566}. Best is trial 0 with value: 0.7139534950256348.\n",
            "[I 2024-11-27 06:06:21,448] Trial 4 finished with value: 0.6930232644081116 and parameters: {'filters_1': 32, 'filters_2': 256, 'filters_3': 256, 'dropout_1': 0.43447499173525916, 'dropout_2': 0.2600266834981266, 'dropout_3': 0.3808689377895871, 'dense_units': 128, 'dropout_fc': 0.447086383994275, 'learning_rate': 0.0003449228228427885}. Best is trial 0 with value: 0.7139534950256348.\n",
            "[I 2024-11-27 06:55:38,009] Trial 5 finished with value: 0.6930232644081116 and parameters: {'filters_1': 128, 'filters_2': 128, 'filters_3': 128, 'dropout_1': 0.27473087460295165, 'dropout_2': 0.224377203968084, 'dropout_3': 0.39679983595115875, 'dense_units': 128, 'dropout_fc': 0.46781465445941844, 'learning_rate': 0.0003056445307189299}. Best is trial 0 with value: 0.7139534950256348.\n",
            "[I 2024-11-27 07:25:14,312] Trial 6 finished with value: 0.7232558131217957 and parameters: {'filters_1': 64, 'filters_2': 64, 'filters_3': 256, 'dropout_1': 0.22356466191738922, 'dropout_2': 0.2862070590756361, 'dropout_3': 0.4757912062607345, 'dense_units': 128, 'dropout_fc': 0.49506612647209663, 'learning_rate': 0.0009367820444391744}. Best is trial 6 with value: 0.7232558131217957.\n",
            "[I 2024-11-27 07:41:25,433] Trial 7 finished with value: 0.5 and parameters: {'filters_1': 32, 'filters_2': 64, 'filters_3': 256, 'dropout_1': 0.24555722859412715, 'dropout_2': 0.2640223360467937, 'dropout_3': 0.3490147914028664, 'dense_units': 128, 'dropout_fc': 0.3261929151114204, 'learning_rate': 0.008085359981645565}. Best is trial 6 with value: 0.7232558131217957.\n",
            "[I 2024-11-27 08:13:29,371] Trial 8 finished with value: 0.6023255586624146 and parameters: {'filters_1': 64, 'filters_2': 128, 'filters_3': 128, 'dropout_1': 0.42086472940752717, 'dropout_2': 0.44670484318626996, 'dropout_3': 0.4490514944017856, 'dense_units': 128, 'dropout_fc': 0.31729488750550044, 'learning_rate': 0.0022313852156139033}. Best is trial 6 with value: 0.7232558131217957.\n",
            "[I 2024-11-27 08:29:55,619] Trial 9 finished with value: 0.6372092962265015 and parameters: {'filters_1': 64, 'filters_2': 64, 'filters_3': 128, 'dropout_1': 0.30628068699802125, 'dropout_2': 0.27183311976692004, 'dropout_3': 0.30439191225409673, 'dense_units': 128, 'dropout_fc': 0.4012154136499909, 'learning_rate': 0.0022265404622947506}. Best is trial 6 with value: 0.7232558131217957.\n"
          ]
        },
        {
          "output_type": "stream",
          "name": "stdout",
          "text": [
            "Best hyperparameters:  {'filters_1': 64, 'filters_2': 64, 'filters_3': 256, 'dropout_1': 0.22356466191738922, 'dropout_2': 0.2862070590756361, 'dropout_3': 0.4757912062607345, 'dense_units': 128, 'dropout_fc': 0.49506612647209663, 'learning_rate': 0.0009367820444391744}\n"
          ]
        }
      ]
    },
    {
      "cell_type": "markdown",
      "source": [
        "best_params_percobaan_2 (value : 0.7232558131217957) = {\n",
        "\n",
        "    'filters_1': 64,\n",
        "    'filters_2': 64,\n",
        "    'filters_3': 256,\n",
        "    'dropout_1': 0.22356466191738922,\n",
        "    'dropout_2': 0.2862070590756361,\n",
        "    'dropout_3': 0.4757912062607345,\n",
        "    'dense_units': 128,\n",
        "    'dropout_fc': 0.49506612647209663,\n",
        "    'learning_rate': 0.0009367820444391744\n",
        "}"
      ],
      "metadata": {
        "id": "7VR5KRiCwo6q"
      }
    },
    {
      "cell_type": "markdown",
      "source": [
        "# Percobaan 3"
      ],
      "metadata": {
        "id": "ERkZBCg4yMF5"
      }
    },
    {
      "cell_type": "markdown",
      "source": [
        "Percobaan dengan epoch 10 dan trial 20"
      ],
      "metadata": {
        "id": "MDy8q_Cex_wh"
      }
    },
    {
      "cell_type": "code",
      "source": [
        "import optuna\n",
        "from tensorflow.keras.models import Sequential\n",
        "from tensorflow.keras.layers import (\n",
        "    Conv2D, MaxPooling2D, Flatten, Dense, Dropout\n",
        ")\n",
        "from tensorflow.keras.optimizers import Adam\n",
        "from tensorflow.keras.callbacks import EarlyStopping\n",
        "\n",
        "# Fungsi untuk tuning\n",
        "def objective(trial):\n",
        "    # Hyperparameter yang akan dioptimalkan\n",
        "    filters_1 = trial.suggest_categorical(\"filters_1\", [32, 64, 128])\n",
        "    filters_2 = trial.suggest_categorical(\"filters_2\", [64, 128, 256])\n",
        "    filters_3 = trial.suggest_categorical(\"filters_3\", [128, 256])\n",
        "    dropout_1 = trial.suggest_float(\"dropout_1\", 0.2, 0.5)\n",
        "    dropout_2 = trial.suggest_float(\"dropout_2\", 0.2, 0.5)\n",
        "    dropout_3 = trial.suggest_float(\"dropout_3\", 0.3, 0.5)\n",
        "    dense_units = trial.suggest_categorical(\"dense_units\", [64, 128, 256])\n",
        "    dropout_fc = trial.suggest_float(\"dropout_fc\", 0.3, 0.5)\n",
        "    learning_rate = trial.suggest_loguniform(\"learning_rate\", 1e-4, 1e-2)\n",
        "\n",
        "    # Membuat model\n",
        "    model = Sequential([\n",
        "        Conv2D(filters_1, (3, 3), activation='relu', input_shape=(128, 128, 3)),\n",
        "        MaxPooling2D(pool_size=(2, 2)),\n",
        "        Dropout(dropout_1),\n",
        "\n",
        "        Conv2D(filters_2, (3, 3), activation='relu'),\n",
        "        MaxPooling2D(pool_size=(2, 2)),\n",
        "        Dropout(dropout_2),\n",
        "\n",
        "        Conv2D(filters_3, (3, 3), activation='relu'),\n",
        "        MaxPooling2D(pool_size=(2, 2)),\n",
        "        Dropout(dropout_3),\n",
        "\n",
        "        Flatten(),\n",
        "        Dense(dense_units, activation='relu'),\n",
        "        Dropout(dropout_fc),\n",
        "        Dense(2, activation='softmax')\n",
        "    ])\n",
        "\n",
        "    model.compile(\n",
        "        optimizer=Adam(learning_rate=learning_rate),\n",
        "        loss='categorical_crossentropy',\n",
        "        metrics=['accuracy']\n",
        "    )\n",
        "\n",
        "    # Callback untuk early stopping\n",
        "    early_stopping = EarlyStopping(monitor='val_loss', patience=5, restore_best_weights=True)\n",
        "\n",
        "    # Melatih model\n",
        "    history = model.fit(\n",
        "        train_data_1,\n",
        "        validation_data=val_data_1,\n",
        "        epochs=10,\n",
        "        batch_size=32,\n",
        "        callbacks=[early_stopping],\n",
        "        verbose=0\n",
        "    )\n",
        "\n",
        "    # Return akurasi validasi terbaik\n",
        "    return max(history.history['val_accuracy'])\n",
        "\n",
        "# Jalankan optimisasi dengan Optuna\n",
        "study = optuna.create_study(direction=\"maximize\")\n",
        "study.optimize(objective, n_trials=20)\n",
        "\n",
        "# Hasil terbaik\n",
        "print(\"Best hyperparameters: \", study.best_params)\n"
      ],
      "metadata": {
        "colab": {
          "base_uri": "https://localhost:8080/"
        },
        "id": "C_vW_rvCyO9N",
        "outputId": "c1e9f5a1-aa2b-47d6-91e8-3710537aff54"
      },
      "execution_count": 5,
      "outputs": [
        {
          "output_type": "stream",
          "name": "stderr",
          "text": [
            "[I 2024-11-30 00:14:19,076] A new study created in memory with name: no-name-012aebcf-6a75-42af-baa3-d67bbc70af3d\n",
            "<ipython-input-5-d16df0d60041>:20: FutureWarning: suggest_loguniform has been deprecated in v3.0.0. This feature will be removed in v6.0.0. See https://github.com/optuna/optuna/releases/tag/v3.0.0. Use suggest_float(..., log=True) instead.\n",
            "  learning_rate = trial.suggest_loguniform(\"learning_rate\", 1e-4, 1e-2)\n",
            "/usr/local/lib/python3.10/dist-packages/keras/src/layers/convolutional/base_conv.py:107: UserWarning: Do not pass an `input_shape`/`input_dim` argument to a layer. When using Sequential models, prefer using an `Input(shape)` object as the first layer in the model instead.\n",
            "  super().__init__(activity_regularizer=activity_regularizer, **kwargs)\n",
            "/usr/local/lib/python3.10/dist-packages/keras/src/trainers/data_adapters/py_dataset_adapter.py:122: UserWarning: Your `PyDataset` class should call `super().__init__(**kwargs)` in its constructor. `**kwargs` can include `workers`, `use_multiprocessing`, `max_queue_size`. Do not pass these arguments to `fit()`, as they will be ignored.\n",
            "  self._warn_if_super_not_called()\n",
            "[I 2024-11-30 00:39:11,390] Trial 0 finished with value: 0.5 and parameters: {'filters_1': 64, 'filters_2': 64, 'filters_3': 128, 'dropout_1': 0.3973647871189885, 'dropout_2': 0.384428797194697, 'dropout_3': 0.3850148877747922, 'dense_units': 64, 'dropout_fc': 0.4520326600986283, 'learning_rate': 0.007081405270778023}. Best is trial 0 with value: 0.5.\n",
            "<ipython-input-5-d16df0d60041>:20: FutureWarning: suggest_loguniform has been deprecated in v3.0.0. This feature will be removed in v6.0.0. See https://github.com/optuna/optuna/releases/tag/v3.0.0. Use suggest_float(..., log=True) instead.\n",
            "  learning_rate = trial.suggest_loguniform(\"learning_rate\", 1e-4, 1e-2)\n",
            "/usr/local/lib/python3.10/dist-packages/keras/src/layers/convolutional/base_conv.py:107: UserWarning: Do not pass an `input_shape`/`input_dim` argument to a layer. When using Sequential models, prefer using an `Input(shape)` object as the first layer in the model instead.\n",
            "  super().__init__(activity_regularizer=activity_regularizer, **kwargs)\n",
            "[I 2024-11-30 01:09:26,695] Trial 1 finished with value: 0.669767439365387 and parameters: {'filters_1': 64, 'filters_2': 128, 'filters_3': 128, 'dropout_1': 0.27511054144652514, 'dropout_2': 0.3724394308634224, 'dropout_3': 0.40863188337339323, 'dense_units': 64, 'dropout_fc': 0.43541850620763656, 'learning_rate': 0.00017091011720327034}. Best is trial 1 with value: 0.669767439365387.\n",
            "[I 2024-11-30 01:27:16,005] Trial 2 finished with value: 0.5 and parameters: {'filters_1': 32, 'filters_2': 128, 'filters_3': 128, 'dropout_1': 0.23014685532638135, 'dropout_2': 0.32081482301882847, 'dropout_3': 0.4798783379292767, 'dense_units': 256, 'dropout_fc': 0.43532293706524117, 'learning_rate': 0.001620514915883134}. Best is trial 1 with value: 0.669767439365387.\n",
            "[I 2024-11-30 01:49:38,527] Trial 3 finished with value: 0.5 and parameters: {'filters_1': 64, 'filters_2': 64, 'filters_3': 128, 'dropout_1': 0.20030571347013268, 'dropout_2': 0.27449465995867606, 'dropout_3': 0.4647599936812561, 'dense_units': 64, 'dropout_fc': 0.3236825173825267, 'learning_rate': 0.006743673193857397}. Best is trial 1 with value: 0.669767439365387.\n",
            "[I 2024-11-30 02:17:36,395] Trial 4 finished with value: 0.5 and parameters: {'filters_1': 32, 'filters_2': 128, 'filters_3': 256, 'dropout_1': 0.4562364279640428, 'dropout_2': 0.2878260333567574, 'dropout_3': 0.3352815238657469, 'dense_units': 64, 'dropout_fc': 0.4736111390249368, 'learning_rate': 0.0025933135476773612}. Best is trial 1 with value: 0.669767439365387.\n",
            "[I 2024-11-30 02:59:08,645] Trial 5 finished with value: 0.5418604612350464 and parameters: {'filters_1': 128, 'filters_2': 128, 'filters_3': 128, 'dropout_1': 0.45087467089388295, 'dropout_2': 0.4484301710128654, 'dropout_3': 0.328479834251639, 'dense_units': 64, 'dropout_fc': 0.352859507036687, 'learning_rate': 0.001375876849780335}. Best is trial 1 with value: 0.669767439365387.\n",
            "[I 2024-11-30 03:35:09,524] Trial 6 finished with value: 0.5139535069465637 and parameters: {'filters_1': 64, 'filters_2': 256, 'filters_3': 256, 'dropout_1': 0.4900043159545062, 'dropout_2': 0.3615531491770323, 'dropout_3': 0.4990678994619266, 'dense_units': 64, 'dropout_fc': 0.3361368900909811, 'learning_rate': 0.00478742453610148}. Best is trial 1 with value: 0.669767439365387.\n",
            "[I 2024-11-30 03:59:34,540] Trial 7 finished with value: 0.5 and parameters: {'filters_1': 64, 'filters_2': 64, 'filters_3': 256, 'dropout_1': 0.22942865072883462, 'dropout_2': 0.330638599182816, 'dropout_3': 0.4124195599041375, 'dense_units': 128, 'dropout_fc': 0.44550705161436444, 'learning_rate': 0.008762429786542045}. Best is trial 1 with value: 0.669767439365387.\n",
            "[I 2024-11-30 05:18:27,324] Trial 8 finished with value: 0.5 and parameters: {'filters_1': 128, 'filters_2': 256, 'filters_3': 256, 'dropout_1': 0.28096839805788937, 'dropout_2': 0.30119270990055996, 'dropout_3': 0.35023215191429924, 'dense_units': 256, 'dropout_fc': 0.4523644142154158, 'learning_rate': 0.0030234493673308277}. Best is trial 1 with value: 0.669767439365387.\n",
            "[I 2024-11-30 05:54:25,826] Trial 9 finished with value: 0.6465116143226624 and parameters: {'filters_1': 128, 'filters_2': 64, 'filters_3': 256, 'dropout_1': 0.42586161512478526, 'dropout_2': 0.32267487351426616, 'dropout_3': 0.46918505396991567, 'dense_units': 128, 'dropout_fc': 0.42387766902654617, 'learning_rate': 0.0012553255426635639}. Best is trial 1 with value: 0.669767439365387.\n",
            "[I 2024-11-30 06:25:56,097] Trial 10 finished with value: 0.695348858833313 and parameters: {'filters_1': 64, 'filters_2': 128, 'filters_3': 128, 'dropout_1': 0.3203970946144675, 'dropout_2': 0.21071404199566124, 'dropout_3': 0.4141576846959582, 'dense_units': 128, 'dropout_fc': 0.38164183909228494, 'learning_rate': 0.00012577180802225444}. Best is trial 10 with value: 0.695348858833313.\n",
            "[I 2024-11-30 06:58:37,165] Trial 11 finished with value: 0.6930232644081116 and parameters: {'filters_1': 64, 'filters_2': 128, 'filters_3': 128, 'dropout_1': 0.31823609943771825, 'dropout_2': 0.20365986657860086, 'dropout_3': 0.4213540124160479, 'dense_units': 128, 'dropout_fc': 0.38518890670220884, 'learning_rate': 0.00011358054926686086}. Best is trial 10 with value: 0.695348858833313.\n",
            "[I 2024-11-30 07:29:57,794] Trial 12 finished with value: 0.6651162505149841 and parameters: {'filters_1': 64, 'filters_2': 128, 'filters_3': 128, 'dropout_1': 0.34446469850253486, 'dropout_2': 0.22331723700289055, 'dropout_3': 0.43533537273094725, 'dense_units': 128, 'dropout_fc': 0.3818670793219403, 'learning_rate': 0.0001011689719991114}. Best is trial 10 with value: 0.695348858833313.\n",
            "[I 2024-11-30 08:00:32,699] Trial 13 finished with value: 0.7116279006004333 and parameters: {'filters_1': 64, 'filters_2': 128, 'filters_3': 128, 'dropout_1': 0.3370353724525363, 'dropout_2': 0.2003463596789616, 'dropout_3': 0.3670823765403344, 'dense_units': 128, 'dropout_fc': 0.387954490058565, 'learning_rate': 0.0003962662050434109}. Best is trial 13 with value: 0.7116279006004333.\n",
            "[I 2024-11-30 08:31:57,097] Trial 14 finished with value: 0.7209302186965942 and parameters: {'filters_1': 64, 'filters_2': 128, 'filters_3': 128, 'dropout_1': 0.37213096633851156, 'dropout_2': 0.24368234299320396, 'dropout_3': 0.37950841664402435, 'dense_units': 128, 'dropout_fc': 0.3612677476399201, 'learning_rate': 0.0003938632128063298}. Best is trial 14 with value: 0.7209302186965942.\n",
            "[I 2024-11-30 08:54:28,292] Trial 15 finished with value: 0.6720930337905884 and parameters: {'filters_1': 32, 'filters_2': 128, 'filters_3': 128, 'dropout_1': 0.38296797857802134, 'dropout_2': 0.25139209808669305, 'dropout_3': 0.36922369268620725, 'dense_units': 128, 'dropout_fc': 0.3498920245237163, 'learning_rate': 0.0003976403601896147}. Best is trial 14 with value: 0.7209302186965942.\n",
            "[I 2024-11-30 09:37:38,593] Trial 16 finished with value: 0.6720930337905884 and parameters: {'filters_1': 64, 'filters_2': 256, 'filters_3': 128, 'dropout_1': 0.39151972275560615, 'dropout_2': 0.24787549819390106, 'dropout_3': 0.30675965381008446, 'dense_units': 128, 'dropout_fc': 0.3072593045205441, 'learning_rate': 0.0005247107392451953}. Best is trial 14 with value: 0.7209302186965942.\n",
            "[I 2024-11-30 10:08:31,180] Trial 17 finished with value: 0.6767441630363464 and parameters: {'filters_1': 64, 'filters_2': 128, 'filters_3': 128, 'dropout_1': 0.3497438440570226, 'dropout_2': 0.49156471564954807, 'dropout_3': 0.3746271244310286, 'dense_units': 128, 'dropout_fc': 0.4064815275675541, 'learning_rate': 0.0005208390997805839}. Best is trial 14 with value: 0.7209302186965942.\n",
            "[I 2024-11-30 10:54:36,386] Trial 18 finished with value: 0.699999988079071 and parameters: {'filters_1': 128, 'filters_2': 128, 'filters_3': 128, 'dropout_1': 0.2994459434451659, 'dropout_2': 0.24966675722616655, 'dropout_3': 0.35939575871556406, 'dense_units': 256, 'dropout_fc': 0.49714006819722456, 'learning_rate': 0.0002803882717240211}. Best is trial 14 with value: 0.7209302186965942.\n",
            "[I 2024-11-30 11:27:55,362] Trial 19 finished with value: 0.6976743936538696 and parameters: {'filters_1': 32, 'filters_2': 256, 'filters_3': 128, 'dropout_1': 0.36871086334210296, 'dropout_2': 0.4099932986910423, 'dropout_3': 0.3872984033972243, 'dense_units': 128, 'dropout_fc': 0.3599231997147475, 'learning_rate': 0.00024045437675823583}. Best is trial 14 with value: 0.7209302186965942.\n"
          ]
        },
        {
          "output_type": "stream",
          "name": "stdout",
          "text": [
            "Best hyperparameters:  {'filters_1': 64, 'filters_2': 128, 'filters_3': 128, 'dropout_1': 0.37213096633851156, 'dropout_2': 0.24368234299320396, 'dropout_3': 0.37950841664402435, 'dense_units': 128, 'dropout_fc': 0.3612677476399201, 'learning_rate': 0.0003938632128063298}\n"
          ]
        }
      ]
    },
    {
      "cell_type": "markdown",
      "source": [
        "best_params_percobaan_3 (value : 0.7209302186965942) = {\n",
        "\n",
        "    'filters_1': 64,\n",
        "    'filters_2': 128,\n",
        "    'filters_3': 128,\n",
        "    'dropout_1': 0.37213096633851156,\n",
        "    'dropout_2': 0.24368234299320396,\n",
        "    'dropout_3': 0.37950841664402435,\n",
        "    'dense_units': 128,\n",
        "    'dropout_fc': 0.3612677476399201,\n",
        "    'learning_rate': 0.0003938632128063298\n",
        "}\n"
      ],
      "metadata": {
        "id": "czLZFU-YxZDJ"
      }
    },
    {
      "cell_type": "markdown",
      "source": [
        "# Percobaan 4"
      ],
      "metadata": {
        "id": "LWpMT0EURvVh"
      }
    },
    {
      "cell_type": "markdown",
      "source": [
        "Percobaan dengan epoch 5 dan trial 5, ditambah visualisasi grafik tuning setiap trial"
      ],
      "metadata": {
        "id": "JTCbqUEdyF9H"
      }
    },
    {
      "cell_type": "code",
      "source": [
        "import optuna\n",
        "from tensorflow.keras.models import Sequential\n",
        "from tensorflow.keras.layers import (\n",
        "    Conv2D, MaxPooling2D, Flatten, Dense, Dropout\n",
        ")\n",
        "from tensorflow.keras.optimizers import Adam\n",
        "from tensorflow.keras.callbacks import EarlyStopping\n",
        "\n",
        "# Fungsi untuk tuning\n",
        "def objective(trial):\n",
        "    # Hyperparameter yang akan dioptimalkan\n",
        "    filters_1 = trial.suggest_categorical(\"filters_1\", [32, 64, 128])\n",
        "    filters_2 = trial.suggest_categorical(\"filters_2\", [64, 128, 256])\n",
        "    filters_3 = trial.suggest_categorical(\"filters_3\", [128, 256])\n",
        "    dropout_1 = trial.suggest_float(\"dropout_1\", 0.2, 0.5)\n",
        "    dropout_2 = trial.suggest_float(\"dropout_2\", 0.2, 0.5)\n",
        "    dropout_3 = trial.suggest_float(\"dropout_3\", 0.3, 0.5)\n",
        "    dense_units = trial.suggest_categorical(\"dense_units\", [64, 128, 256])\n",
        "    dropout_fc = trial.suggest_float(\"dropout_fc\", 0.3, 0.5)\n",
        "    learning_rate = trial.suggest_loguniform(\"learning_rate\", 1e-4, 1e-2)\n",
        "\n",
        "    # Membuat model\n",
        "    model = Sequential([\n",
        "        Conv2D(filters_1, (3, 3), activation='relu', input_shape=(128, 128, 3)),\n",
        "        MaxPooling2D(pool_size=(2, 2)),\n",
        "        Dropout(dropout_1),\n",
        "\n",
        "        Conv2D(filters_2, (3, 3), activation='relu'),\n",
        "        MaxPooling2D(pool_size=(2, 2)),\n",
        "        Dropout(dropout_2),\n",
        "\n",
        "        Conv2D(filters_3, (3, 3), activation='relu'),\n",
        "        MaxPooling2D(pool_size=(2, 2)),\n",
        "        Dropout(dropout_3),\n",
        "\n",
        "        Flatten(),\n",
        "        Dense(dense_units, activation='relu'),\n",
        "        Dropout(dropout_fc),\n",
        "        Dense(2, activation='softmax')\n",
        "    ])\n",
        "\n",
        "    model.compile(\n",
        "        optimizer=Adam(learning_rate=learning_rate),\n",
        "        loss='categorical_crossentropy',\n",
        "        metrics=['accuracy']\n",
        "    )\n",
        "\n",
        "    # Callback untuk early stopping\n",
        "    early_stopping = EarlyStopping(monitor='val_loss', patience=5, restore_best_weights=True)\n",
        "\n",
        "    # Melatih model\n",
        "    history = model.fit(\n",
        "        train_data_1,\n",
        "        validation_data=val_data_1,\n",
        "        epochs=5,\n",
        "        batch_size=32,\n",
        "        callbacks=[early_stopping],\n",
        "        verbose=0\n",
        "    )\n",
        "\n",
        "    # Return akurasi validasi terbaik\n",
        "    return max(history.history['val_accuracy'])\n",
        "\n",
        "# Jalankan optimisasi dengan Optuna\n",
        "study = optuna.create_study(direction=\"maximize\")\n",
        "study.optimize(objective, n_trials=5)\n",
        "\n",
        "# Hasil terbaik\n",
        "print(\"Best hyperparameters: \", study.best_params)\n",
        "\n",
        "\n",
        "import matplotlib.pyplot as plt\n",
        "\n",
        "# Plot akurasi dari setiap trial\n",
        "accuracies = [trial.value for trial in study.trials]\n",
        "plt.plot(range(len(accuracies)), accuracies, marker='o')\n",
        "plt.title(\"Validation Accuracy per Trial\")\n",
        "plt.xlabel(\"Trial\")\n",
        "plt.ylabel(\"Validation Accuracy\")\n",
        "plt.show()"
      ],
      "metadata": {
        "colab": {
          "base_uri": "https://localhost:8080/",
          "height": 787
        },
        "id": "UaG70BimRu06",
        "outputId": "83fe5c35-abe9-4dd3-859d-927a46153264"
      },
      "execution_count": 6,
      "outputs": [
        {
          "output_type": "stream",
          "name": "stderr",
          "text": [
            "[I 2024-11-30 13:36:02,033] A new study created in memory with name: no-name-88608544-06dc-4a4f-ab07-d98ada92894e\n",
            "<ipython-input-6-b237977b4af7>:20: FutureWarning: suggest_loguniform has been deprecated in v3.0.0. This feature will be removed in v6.0.0. See https://github.com/optuna/optuna/releases/tag/v3.0.0. Use suggest_float(..., log=True) instead.\n",
            "  learning_rate = trial.suggest_loguniform(\"learning_rate\", 1e-4, 1e-2)\n",
            "/usr/local/lib/python3.10/dist-packages/keras/src/layers/convolutional/base_conv.py:107: UserWarning: Do not pass an `input_shape`/`input_dim` argument to a layer. When using Sequential models, prefer using an `Input(shape)` object as the first layer in the model instead.\n",
            "  super().__init__(activity_regularizer=activity_regularizer, **kwargs)\n",
            "/usr/local/lib/python3.10/dist-packages/keras/src/trainers/data_adapters/py_dataset_adapter.py:122: UserWarning: Your `PyDataset` class should call `super().__init__(**kwargs)` in its constructor. `**kwargs` can include `workers`, `use_multiprocessing`, `max_queue_size`. Do not pass these arguments to `fit()`, as they will be ignored.\n",
            "  self._warn_if_super_not_called()\n",
            "[I 2024-11-30 13:49:58,516] Trial 0 finished with value: 0.6465116143226624 and parameters: {'filters_1': 64, 'filters_2': 128, 'filters_3': 128, 'dropout_1': 0.43850937748825664, 'dropout_2': 0.2524993224059656, 'dropout_3': 0.30660791577091695, 'dense_units': 128, 'dropout_fc': 0.49311080331198975, 'learning_rate': 0.00013237853856065142}. Best is trial 0 with value: 0.6465116143226624.\n",
            "<ipython-input-6-b237977b4af7>:20: FutureWarning: suggest_loguniform has been deprecated in v3.0.0. This feature will be removed in v6.0.0. See https://github.com/optuna/optuna/releases/tag/v3.0.0. Use suggest_float(..., log=True) instead.\n",
            "  learning_rate = trial.suggest_loguniform(\"learning_rate\", 1e-4, 1e-2)\n",
            "/usr/local/lib/python3.10/dist-packages/keras/src/layers/convolutional/base_conv.py:107: UserWarning: Do not pass an `input_shape`/`input_dim` argument to a layer. When using Sequential models, prefer using an `Input(shape)` object as the first layer in the model instead.\n",
            "  super().__init__(activity_regularizer=activity_regularizer, **kwargs)\n",
            "[I 2024-11-30 14:07:13,617] Trial 1 finished with value: 0.6395348906517029 and parameters: {'filters_1': 64, 'filters_2': 256, 'filters_3': 256, 'dropout_1': 0.4638261067826804, 'dropout_2': 0.21708179978711348, 'dropout_3': 0.3641313045278501, 'dense_units': 256, 'dropout_fc': 0.32289122715928104, 'learning_rate': 0.00027635584484633926}. Best is trial 0 with value: 0.6465116143226624.\n",
            "[I 2024-11-30 14:12:24,098] Trial 2 finished with value: 0.5860465168952942 and parameters: {'filters_1': 32, 'filters_2': 64, 'filters_3': 256, 'dropout_1': 0.39305080638140477, 'dropout_2': 0.21153162346215346, 'dropout_3': 0.3042563312780033, 'dense_units': 128, 'dropout_fc': 0.35859750776035537, 'learning_rate': 0.0017339641763319182}. Best is trial 0 with value: 0.6465116143226624.\n",
            "[I 2024-11-30 14:23:36,574] Trial 3 finished with value: 0.6511628031730652 and parameters: {'filters_1': 128, 'filters_2': 64, 'filters_3': 256, 'dropout_1': 0.23561666331877867, 'dropout_2': 0.48416956121361704, 'dropout_3': 0.430805003699529, 'dense_units': 256, 'dropout_fc': 0.32147126501505086, 'learning_rate': 0.0005450974958598828}. Best is trial 3 with value: 0.6511628031730652.\n",
            "[I 2024-11-30 14:38:08,922] Trial 4 finished with value: 0.6627907156944275 and parameters: {'filters_1': 128, 'filters_2': 128, 'filters_3': 256, 'dropout_1': 0.21832660389002032, 'dropout_2': 0.4647499090678002, 'dropout_3': 0.4835291283560151, 'dense_units': 128, 'dropout_fc': 0.48744245423936466, 'learning_rate': 0.00025811726363947324}. Best is trial 4 with value: 0.6627907156944275.\n"
          ]
        },
        {
          "output_type": "stream",
          "name": "stdout",
          "text": [
            "Best hyperparameters:  {'filters_1': 128, 'filters_2': 128, 'filters_3': 256, 'dropout_1': 0.21832660389002032, 'dropout_2': 0.4647499090678002, 'dropout_3': 0.4835291283560151, 'dense_units': 128, 'dropout_fc': 0.48744245423936466, 'learning_rate': 0.00025811726363947324}\n"
          ]
        },
        {
          "output_type": "display_data",
          "data": {
            "text/plain": [
              "<Figure size 640x480 with 1 Axes>"
            ],
            "image/png": "[encoded data removed]"
          },
          "metadata": {}
        }
      ]
    },
    {
      "cell_type": "markdown",
      "source": [
        "best_params_percobaan_4 (value : 0.6627907156944275) = {\n",
        "\n",
        "    'filters_1': 128,\n",
        "    'filters_2': 128,\n",
        "    'filters_3': 256,\n",
        "    'dropout_1': 0.21832660389002032,\n",
        "    'dropout_2': 0.4647499090678002,\n",
        "    'dropout_3': 0.4835291283560151,\n",
        "    'dense_units': 2128,\n",
        "    'dropout_fc': 0.48744245423936466,\n",
        "    'learning_rate': 0.00025811726363947324\n",
        "}"
      ],
      "metadata": {
        "id": "-p25lvA2xcw7"
      }
    },
    {
      "cell_type": "markdown",
      "source": [
        "# Model dengan Best Hyperparameter"
      ],
      "metadata": {
        "id": "wzVVICPfyQMY"
      }
    },
    {
      "cell_type": "markdown",
      "source": [
        "menerapkan paramater terbaik yang ditemukan kedalam model arsitektur CNN yang telah dibuat sebelumnya."
      ],
      "metadata": {
        "id": "vQMFTHQl0ujS"
      }
    },
    {
      "cell_type": "code",
      "source": [
        "from tensorflow.keras.models import Sequential\n",
        "from tensorflow.keras.layers import Conv2D, MaxPooling2D, Flatten, Dense, Dropout\n",
        "from tensorflow.keras.optimizers import Adam\n",
        "\n",
        "def create_best_model(best_params):\n",
        "    model = Sequential([\n",
        "        # Lapisan konvolusi pertama\n",
        "        Conv2D(\n",
        "            best_params['filters_1'],\n",
        "            (3, 3),\n",
        "            activation='relu',\n",
        "            input_shape=(128, 128, 3)\n",
        "        ),\n",
        "        MaxPooling2D(pool_size=(2, 2)),\n",
        "        Dropout(best_params['dropout_1']),\n",
        "\n",
        "        # Lapisan konvolusi kedua\n",
        "        Conv2D(\n",
        "            best_params['filters_2'],\n",
        "            (3, 3),\n",
        "            activation='relu'\n",
        "        ),\n",
        "        MaxPooling2D(pool_size=(2, 2)),\n",
        "        Dropout(best_params['dropout_2']),\n",
        "\n",
        "        # Lapisan konvolusi ketiga\n",
        "        Conv2D(\n",
        "            best_params['filters_3'],\n",
        "            (3, 3),\n",
        "            activation='relu'\n",
        "        ),\n",
        "        MaxPooling2D(pool_size=(2, 2)),\n",
        "        Dropout(best_params['dropout_3']),\n",
        "\n",
        "        # Lapisan Fully Connected\n",
        "        Flatten(),\n",
        "        Dense(best_params['dense_units'], activation='relu'),\n",
        "        Dropout(best_params['dropout_fc']),\n",
        "        Dense(2, activation='softmax')  # Output layer dengan 2 kelas\n",
        "    ])\n",
        "\n",
        "    # Kompilasi model dengan learning rate terbaik\n",
        "    model.compile(\n",
        "        optimizer=Adam(learning_rate=best_params['learning_rate']),\n",
        "        loss='categorical_crossentropy',\n",
        "        metrics=['accuracy']\n",
        "    )\n",
        "\n",
        "    return model"
      ],
      "metadata": {
        "id": "C2X9Wr5oVe_5"
      },
      "execution_count": 7,
      "outputs": []
    },
    {
      "cell_type": "markdown",
      "source": [
        "Menginputkan nilai paramater terbaik yang ditemukan hyperparameter tuning kedalam model serta melakukan evaluasi model.\n",
        "\n",
        "Digunakan parameter terbaik dari percobaan 2 (epoch 10, trial 10)."
      ],
      "metadata": {
        "id": "7hx9tTEv05t3"
      }
    },
    {
      "cell_type": "code",
      "source": [
        "best_params = {\n",
        "    'filters_1': 64,\n",
        "    'filters_2': 64,\n",
        "    'filters_3': 256,\n",
        "    'dropout_1': 0.22356466191738922,\n",
        "    'dropout_2': 0.2862070590756361,\n",
        "    'dropout_3': 0.4757912062607345,\n",
        "    'dense_units': 128,\n",
        "    'dropout_fc': 0.49506612647209663,\n",
        "    'learning_rate': 0.0009367820444391744\n",
        "}\n",
        "\n",
        "best_model = create_best_model(best_params)\n",
        "\n",
        "# Callback\n",
        "early_stopping = EarlyStopping(monitor='val_loss', patience=5, restore_best_weights=True)\n",
        "\n",
        "# Latih model\n",
        "history = best_model.fit(\n",
        "    train_data_1,\n",
        "    validation_data=val_data_1,\n",
        "    epochs=10,\n",
        "    batch_size=32,\n",
        "    callbacks=[early_stopping],\n",
        "    verbose=1\n",
        ")\n",
        "\n",
        "# Evaluasi model\n",
        "test_loss, test_accuracy = best_model.evaluate(test_data_1, verbose=1)\n",
        "print(f\"Test Loss: {test_loss}, Test Accuracy: {test_accuracy}\")\n"
      ],
      "metadata": {
        "colab": {
          "base_uri": "https://localhost:8080/"
        },
        "id": "zBZT2nSYTmjL",
        "outputId": "f2ae9f9c-5883-4abe-a1f4-4a98519e031f"
      },
      "execution_count": 12,
      "outputs": [
        {
          "output_type": "stream",
          "name": "stdout",
          "text": [
            "Epoch 1/10\n",
            "\u001b[1m48/48\u001b[0m \u001b[32m━━━━━━━━━━━━━━━━━━━━\u001b[0m\u001b[37m\u001b[0m \u001b[1m82s\u001b[0m 2s/step - accuracy: 0.5114 - loss: 0.9070 - val_accuracy: 0.5000 - val_loss: 0.6918\n",
            "Epoch 2/10\n",
            "\u001b[1m48/48\u001b[0m \u001b[32m━━━━━━━━━━━━━━━━━━━━\u001b[0m\u001b[37m\u001b[0m \u001b[1m78s\u001b[0m 2s/step - accuracy: 0.5421 - loss: 0.6926 - val_accuracy: 0.5791 - val_loss: 0.6785\n",
            "Epoch 3/10\n",
            "\u001b[1m48/48\u001b[0m \u001b[32m━━━━━━━━━━━━━━━━━━━━\u001b[0m\u001b[37m\u001b[0m \u001b[1m79s\u001b[0m 2s/step - accuracy: 0.5922 - loss: 0.6719 - val_accuracy: 0.6256 - val_loss: 0.6475\n",
            "Epoch 4/10\n",
            "\u001b[1m48/48\u001b[0m \u001b[32m━━━━━━━━━━━━━━━━━━━━\u001b[0m\u001b[37m\u001b[0m \u001b[1m81s\u001b[0m 2s/step - accuracy: 0.5976 - loss: 0.6522 - val_accuracy: 0.6884 - val_loss: 0.5950\n",
            "Epoch 5/10\n",
            "\u001b[1m48/48\u001b[0m \u001b[32m━━━━━━━━━━━━━━━━━━━━\u001b[0m\u001b[37m\u001b[0m \u001b[1m83s\u001b[0m 2s/step - accuracy: 0.6505 - loss: 0.6242 - val_accuracy: 0.6884 - val_loss: 0.6079\n",
            "Epoch 6/10\n",
            "\u001b[1m48/48\u001b[0m \u001b[32m━━━━━━━━━━━━━━━━━━━━\u001b[0m\u001b[37m\u001b[0m \u001b[1m81s\u001b[0m 2s/step - accuracy: 0.6640 - loss: 0.6234 - val_accuracy: 0.6581 - val_loss: 0.6059\n",
            "Epoch 7/10\n",
            "\u001b[1m48/48\u001b[0m \u001b[32m━━━━━━━━━━━━━━━━━━━━\u001b[0m\u001b[37m\u001b[0m \u001b[1m80s\u001b[0m 2s/step - accuracy: 0.6511 - loss: 0.6340 - val_accuracy: 0.6163 - val_loss: 0.6977\n",
            "Epoch 8/10\n",
            "\u001b[1m48/48\u001b[0m \u001b[32m━━━━━━━━━━━━━━━━━━━━\u001b[0m\u001b[37m\u001b[0m \u001b[1m79s\u001b[0m 2s/step - accuracy: 0.6398 - loss: 0.6394 - val_accuracy: 0.7047 - val_loss: 0.6020\n",
            "Epoch 9/10\n",
            "\u001b[1m48/48\u001b[0m \u001b[32m━━━━━━━━━━━━━━━━━━━━\u001b[0m\u001b[37m\u001b[0m \u001b[1m81s\u001b[0m 2s/step - accuracy: 0.6601 - loss: 0.6239 - val_accuracy: 0.6116 - val_loss: 0.6596\n",
            "\u001b[1m7/7\u001b[0m \u001b[32m━━━━━━━━━━━━━━━━━━━━\u001b[0m\u001b[37m\u001b[0m \u001b[1m35s\u001b[0m 6s/step - accuracy: 0.6994 - loss: 0.6015\n",
            "Test Loss: 0.5977283716201782, Test Accuracy: 0.6926605701446533\n"
          ]
        }
      ]
    },
    {
      "cell_type": "markdown",
      "source": [
        "note : pada model tanpa hyperparameter tuning digunakan epoch 20, artinya model ini lebih memiliki cukup waktu untuk belajar pola daripada model dengan hyperparamter tuning yang hanya menggunakan epoch 10. maka belum bisa diberikan kesimpulan bahwa model dengan hyperparameter tuning ini mampu meningkatkan optimasi dari model."
      ],
      "metadata": {
        "id": "cqG6hOhfyEVm"
      }
    },
    {
      "cell_type": "markdown",
      "metadata": {
        "id": "YqFhIoSIONTl"
      },
      "source": [
        "# trash"
      ]
    },
    {
      "cell_type": "code",
      "execution_count": null,
      "metadata": {
        "id": "qupeFreei5wH"
      },
      "outputs": [],
      "source": [
        "# import os\n",
        "# import numpy as np\n",
        "# from PIL import Image\n",
        "# from tensorflow.keras.preprocessing.image import ImageDataGenerator\n",
        "# import shutil\n",
        "# from datetime import datetime\n",
        "\n",
        "# # Path dataset\n",
        "# original_dataset_path = '/content/drive/MyDrive/Colab Notebooks/Colab_DL/ArchitecturalStylesDataset'\n",
        "# augmented_dataset_path = '/content/drive/MyDrive/Colab Notebooks/Colab_DL/AugmentedDataset'\n",
        "\n",
        "# # Membuat direktori baru untuk augmented dataset\n",
        "# os.makedirs(augmented_dataset_path, exist_ok=True)\n",
        "\n",
        "# # Augmentasi untuk menyeimbangkan dataset\n",
        "# augment_gen = ImageDataGenerator(\n",
        "#     rotation_range=45,\n",
        "#     width_shift_range=0.3,\n",
        "#     height_shift_range=0.3,\n",
        "#     shear_range=0.3,\n",
        "#     zoom_range=0.3,\n",
        "#     horizontal_flip=True,\n",
        "#     fill_mode='nearest'\n",
        "# )\n",
        "\n",
        "# # Fungsi untuk augmentasi data\n",
        "# def augment_data(original_dir, target_dir, target_count):\n",
        "#     for class_name in os.listdir(original_dir):\n",
        "#         class_dir = os.path.join(original_dir, class_name)\n",
        "#         target_class_dir = os.path.join(target_dir, class_name)\n",
        "#         os.makedirs(target_class_dir, exist_ok=True)\n",
        "\n",
        "#         images = os.listdir(class_dir)\n",
        "#         num_images = len(images)\n",
        "\n",
        "#         # Salin semua data asli\n",
        "#         for file in images:\n",
        "#             src = os.path.join(class_dir, file)\n",
        "#             dst = os.path.join(target_class_dir, file)\n",
        "#             shutil.copy(src, dst)\n",
        "\n",
        "#         # Augmentasi jika jumlah data kurang dari target_count\n",
        "#         if num_images < target_count:\n",
        "#             required_augments = target_count - num_images\n",
        "#             image_idx = 0\n",
        "\n",
        "#             while required_augments > 0:\n",
        "#                 img_path = os.path.join(class_dir, images[image_idx % num_images])\n",
        "#                 img = Image.open(img_path)\n",
        "#                 img = img.resize((128, 128))  # Ubah ukuran gambar ke target input\n",
        "#                 img = np.expand_dims(np.array(img), 0)\n",
        "\n",
        "#                 # Augmentasi gambar\n",
        "#                 for batch in augment_gen.flow(\n",
        "#                     img,\n",
        "#                     batch_size=1,\n",
        "#                     save_to_dir=target_class_dir,\n",
        "#                     save_prefix=f'aug_{datetime.now().strftime(\"%Y%m%d%H%M%S\")}',\n",
        "#                     save_format='jpeg'\n",
        "#                 ):\n",
        "#                     required_augments -= 1\n",
        "#                     if required_augments <= 0:\n",
        "#                         break\n",
        "\n",
        "#                 image_idx += 1\n",
        "\n",
        "# # Menyeimbangkan dataset dengan augmentasi\n",
        "# augment_data(original_dataset_path, augmented_dataset_path, target_count=1867)\n"
      ]
    },
    {
      "cell_type": "code",
      "execution_count": null,
      "metadata": {
        "id": "mQT8G9Ag7jaB"
      },
      "outputs": [],
      "source": [
        "# import os\n",
        "# import random\n",
        "# import shutil\n",
        "# from sklearn.model_selection import train_test_split\n",
        "# from tensorflow.keras.preprocessing.image import ImageDataGenerator\n",
        "# from PIL import Image\n",
        "# import numpy as np\n",
        "# from datetime import datetime\n",
        "\n",
        "# # Path dataset asli\n",
        "# original_dataset_path = '/content/drive/MyDrive/Colab Notebooks/Colab_DL/ArchitecturalStylesDataset'\n",
        "# splitted_dataset_path = '/content/drive/MyDrive/Colab Notebooks/Colab_DL/SplittedDatasetAsli'\n",
        "\n",
        "# # Buat direktori untuk train, val, test\n",
        "# for split in ['train', 'val', 'test']:\n",
        "#     for class_name in ['Baroque', 'Modernist']:\n",
        "#         os.makedirs(os.path.join(splitted_dataset_path, split, class_name), exist_ok=True)\n",
        "\n",
        "# # Fungsi untuk splitting dataset\n",
        "# def split_dataset(original_dir, target_dir, train_ratio=0.7, val_ratio=0.2):\n",
        "#     for class_name in os.listdir(original_dir):\n",
        "#         class_dir = os.path.join(original_dir, class_name)\n",
        "#         images = os.listdir(class_dir)\n",
        "\n",
        "#         # Split data\n",
        "#         train, test = train_test_split(images, test_size=1 - train_ratio, random_state=42)\n",
        "#         val, test = train_test_split(test, test_size=(1 - train_ratio - val_ratio) / (1 - train_ratio), random_state=42)\n",
        "\n",
        "#         # Copy data ke folder target\n",
        "#         for split, split_name in zip([train, val, test], ['train', 'val', 'test']):\n",
        "#             target_class_dir = os.path.join(target_dir, split_name, class_name)\n",
        "#             for file in split:\n",
        "#                 src = os.path.join(class_dir, file)\n",
        "#                 dst = os.path.join(target_class_dir, file)\n",
        "#                 shutil.copy(src, dst)\n",
        "\n",
        "# # Split dataset asli\n",
        "# split_dataset(original_dataset_path, splitted_dataset_path)\n",
        "\n",
        "# # Augmentasi hanya untuk kelas Baroque di training set\n",
        "# augment_gen = ImageDataGenerator(\n",
        "#     rotation_range=45,\n",
        "#     width_shift_range=0.3,\n",
        "#     height_shift_range=0.3,\n",
        "#     shear_range=0.3,\n",
        "#     zoom_range=0.3,\n",
        "#     horizontal_flip=True,\n",
        "#     fill_mode='nearest'\n",
        "# )\n",
        "\n",
        "# def augment_training_data(class_dir, target_count):\n",
        "#     images = os.listdir(class_dir)\n",
        "#     num_images = len(images)\n",
        "#     required_augments = target_count - num_images\n",
        "#     image_idx = 0\n",
        "\n",
        "#     while required_augments > 0:\n",
        "#         img_path = os.path.join(class_dir, images[image_idx % num_images])\n",
        "#         img = Image.open(img_path)\n",
        "#         img = img.resize((128, 128))\n",
        "#         img = np.expand_dims(np.array(img), 0)\n",
        "\n",
        "#         for batch in augment_gen.flow(\n",
        "#             img,\n",
        "#             batch_size=1,\n",
        "#             save_to_dir=class_dir,\n",
        "#             save_prefix=f'aug_{datetime.now().strftime(\"%Y%m%d%H%M%S\")}',\n",
        "#             save_format='jpeg'\n",
        "#         ):\n",
        "#             required_augments -= 1\n",
        "#             if required_augments <= 0:\n",
        "#                 break\n",
        "#         image_idx += 1\n",
        "\n",
        "# # Augmentasi untuk kelas Baroque pada training set\n",
        "# baroque_train_dir = os.path.join(splitted_dataset_path, 'train', 'Baroque')\n",
        "# augment_training_data(baroque_train_dir, target_count=1867)\n"
      ]
    },
    {
      "cell_type": "code",
      "execution_count": null,
      "metadata": {
        "id": "KGX6TK28992Z"
      },
      "outputs": [],
      "source": [
        "# # Augmentasi untuk kelas Modernist\n",
        "# modernist_train_dir = os.path.join(splitted_dataset_path, 'train', 'Modernist')\n",
        "\n",
        "# # Augmentasi hingga jumlah setara dengan Baroque (1814)\n",
        "# augment_training_data(modernist_train_dir, target_count=1814)"
      ]
    },
    {
      "cell_type": "code",
      "execution_count": null,
      "metadata": {
        "id": "0BGOaRaewQ5l"
      },
      "outputs": [],
      "source": [
        "# # Verifikasi jumlah gambar setelah augmentasi\n",
        "# from collections import Counter\n",
        "\n",
        "# def count_images(directory):\n",
        "#     return len(os.listdir(directory))\n",
        "\n",
        "# baroque_train_images_count = count_images(baroque_train_dir)\n",
        "# print(f\"Total images in {baroque_train_dir}: {baroque_train_images_count}\")\n"
      ]
    },
    {
      "cell_type": "code",
      "execution_count": null,
      "metadata": {
        "id": "1gUaHYxzpyH5"
      },
      "outputs": [],
      "source": [
        "# import os\n",
        "# from PIL import Image\n",
        "\n",
        "# # Fungsi untuk menghitung jumlah gambar di setiap kelas\n",
        "# def count_images(directory):\n",
        "#     class_counts = {}\n",
        "#     for class_name in os.listdir(directory):\n",
        "#         class_dir = os.path.join(directory, class_name)\n",
        "#         if os.path.isdir(class_dir):\n",
        "#             class_counts[class_name] = len(os.listdir(class_dir))\n",
        "#     return class_counts\n",
        "\n",
        "# # Fungsi untuk memvalidasi semua gambar\n",
        "# def validate_images(directory):\n",
        "#     invalid_images = []\n",
        "#     for root, _, files in os.walk(directory):\n",
        "#         for file in files:\n",
        "#             file_path = os.path.join(root, file)\n",
        "#             try:\n",
        "#                 # Membuka gambar untuk memastikan validitasnya\n",
        "#                 img = Image.open(file_path)\n",
        "#                 img.verify()  # Memastikan gambar tidak korup\n",
        "#             except (IOError, SyntaxError):\n",
        "#                 invalid_images.append(file_path)\n",
        "#     return invalid_images\n",
        "\n",
        "# # Path dataset untuk kedua pendekatan\n",
        "# balanced_sample_path = '/content/drive/MyDrive/Colab Notebooks/Colab_DL/BalancedSampleDataset'\n",
        "\n",
        "\n",
        "# # Verifikasi jumlah gambar\n",
        "# balanced_sample_counts = count_images(balanced_sample_path)\n",
        "\n",
        "\n",
        "# # Validasi gambar\n",
        "# invalid_balanced_images = validate_images(balanced_sample_path)\n",
        "\n",
        "# # Hasil Verifikasi\n",
        "# print(\"Balanced Sample Dataset Counts:\", balanced_sample_counts)\n",
        "# print(\"Invalid Images in Balanced Sample Dataset:\", invalid_balanced_images)\n",
        "\n"
      ]
    },
    {
      "cell_type": "code",
      "execution_count": null,
      "metadata": {
        "id": "jPKRQZK0OM2w"
      },
      "outputs": [],
      "source": [
        "# import keras_tuner as kt\n",
        "# from tensorflow.keras.models import Sequential\n",
        "# from tensorflow.keras.layers import Conv2D, MaxPooling2D, Flatten, Dense, Dropout\n",
        "# from tensorflow.keras.optimizers import Adam\n",
        "# from tensorflow.keras.callbacks import EarlyStopping\n",
        "\n",
        "# # Definisikan model dengan fungsi tuning\n",
        "# def build_model(hp):\n",
        "#     model = Sequential()\n",
        "\n",
        "#     # Lapisan konvolusi pertama\n",
        "#     model.add(Conv2D(\n",
        "#         filters=hp.Choice('filters_1', values=[32, 64, 128]),\n",
        "#         kernel_size=(3, 3),\n",
        "#         activation='relu',\n",
        "#         input_shape=(128, 128, 3)\n",
        "#     ))\n",
        "#     model.add(MaxPooling2D(pool_size=(2, 2)))\n",
        "#     model.add(Dropout(hp.Choice('dropout_1', values=[0.2, 0.3, 0.4])))\n",
        "\n",
        "#     # Lapisan konvolusi kedua\n",
        "#     model.add(Conv2D(\n",
        "#         filters=hp.Choice('filters_2', values=[32, 64, 128]),\n",
        "#         kernel_size=(3, 3),\n",
        "#         activation='relu'\n",
        "#     ))\n",
        "#     model.add(MaxPooling2D(pool_size=(2, 2)))\n",
        "#     model.add(Dropout(hp.Choice('dropout_2', values=[0.2, 0.3, 0.4])))\n",
        "\n",
        "#     # Lapisan konvolusi ketiga\n",
        "#     model.add(Conv2D(\n",
        "#         filters=hp.Choice('filters_3', values=[64, 128, 256]),\n",
        "#         kernel_size=(3, 3),\n",
        "#         activation='relu'\n",
        "#     ))\n",
        "#     model.add(MaxPooling2D(pool_size=(2, 2)))\n",
        "#     model.add(Dropout(hp.Choice('dropout_3', values=[0.3, 0.4, 0.5])))\n",
        "\n",
        "#     # Fully connected layer\n",
        "#     model.add(Flatten())\n",
        "#     model.add(Dense(\n",
        "#         units=hp.Choice('dense_units', values=[64, 128, 256]),\n",
        "#         activation='relu'\n",
        "#     ))\n",
        "#     model.add(Dropout(hp.Choice('dropout_fc', values=[0.3, 0.4, 0.5])))\n",
        "#     model.add(Dense(2, activation='softmax'))  # Output layer\n",
        "\n",
        "#     # Compile model\n",
        "#     model.compile(\n",
        "#         optimizer=Adam(learning_rate=hp.Choice('learning_rate', values=[0.001, 0.0005, 0.0001])),\n",
        "#         loss='categorical_crossentropy',\n",
        "#         metrics=['accuracy']\n",
        "#     )\n",
        "#     return model\n",
        "\n",
        "# # Membuat objek tuner\n",
        "# tuner = kt.RandomSearch(\n",
        "#     build_model,\n",
        "#     objective='val_accuracy',\n",
        "#     max_trials=20,  # Jumlah kombinasi yang akan dicoba\n",
        "#     directory='tuning_results',\n",
        "#     project_name='cnn_tuning'\n",
        "# )\n",
        "\n",
        "# # Callback untuk early stopping\n",
        "# early_stopping = EarlyStopping(monitor='val_loss', patience=5, restore_best_weights=True)\n",
        "\n",
        "# # Melakukan pencarian hyperparameter\n",
        "# tuner.search(\n",
        "#     train_data_1,  # Dataset pendekatan 1\n",
        "#     validation_data=val_data_1,\n",
        "#     epochs=10,\n",
        "#     batch_size=32,\n",
        "#     callbacks=[early_stopping]\n",
        "# )"
      ]
    },
    {
      "cell_type": "code",
      "execution_count": null,
      "metadata": {
        "id": "5Yp9RFWuRGOw"
      },
      "outputs": [],
      "source": [
        "# # Mendapatkan hyperparameter terbaik\n",
        "# best_hps = tuner.get_best_hyperparameters(num_trials=1)[0]\n",
        "\n",
        "# print(\"Hyperparameter terbaik:\")\n",
        "# print(f\"Filters (Layer 1): {best_hps.get('filters_1')}\")\n",
        "# print(f\"Filters (Layer 2): {best_hps.get('filters_2')}\")\n",
        "# print(f\"Filters (Layer 3): {best_hps.get('filters_3')}\")\n",
        "# print(f\"Dropout (Layer 1): {best_hps.get('dropout_1')}\")\n",
        "# print(f\"Dropout (Layer 2): {best_hps.get('dropout_2')}\")\n",
        "# print(f\"Dropout (Layer 3): {best_hps.get('dropout_3')}\")\n",
        "# print(f\"Dropout (Fully Connected): {best_hps.get('dropout_fc')}\")\n",
        "# print(f\"Dense Units: {best_hps.get('dense_units')}\")\n",
        "# print(f\"Learning Rate: {best_hps.get('learning_rate')}\")\n"
      ]
    },
    {
      "cell_type": "code",
      "execution_count": null,
      "metadata": {
        "id": "CyK6qK6KRRQJ"
      },
      "outputs": [],
      "source": [
        "# # Membuat model dengan hyperparameter terbaik\n",
        "# best_model = tuner.hypermodel.build(best_hps)\n",
        "\n",
        "# # Melatih ulang model\n",
        "# history = best_model.fit(\n",
        "#     train_data_1,\n",
        "#     validation_data=val_data_1,\n",
        "#     epochs=20,\n",
        "#     batch_size=32,\n",
        "#     callbacks=[early_stopping]\n",
        "# )\n",
        "\n",
        "# # Evaluasi pada test data\n",
        "# test_loss, test_accuracy = best_model.evaluate(test_data_1, verbose=1)\n",
        "# print(f\"Test Loss: {test_loss}, Test Accuracy: {test_accuracy}\")\n"
      ]
    },
    {
      "cell_type": "code",
      "execution_count": null,
      "metadata": {
        "id": "vKFJSoXGRMLf"
      },
      "outputs": [],
      "source": [
        "# import matplotlib.pyplot as plt\n",
        "\n",
        "# # Mendapatkan hasil tuning\n",
        "# results = tuner.oracle.get_best_trials(num_trials=10)\n",
        "\n",
        "# # Visualisasi akurasi terbaik\n",
        "# val_accuracies = [trial.metrics.get_last_value('val_accuracy') for trial in results]\n",
        "\n",
        "# plt.bar(range(len(val_accuracies)), val_accuracies)\n",
        "# plt.xlabel('Trial')\n",
        "# plt.ylabel('Validation Accuracy')\n",
        "# plt.title('Validation Accuracy of Top Hyperparameter Configurations')\n",
        "# plt.show()\n"
      ]
    },
    {
      "cell_type": "code",
      "source": [
        "# import tensorflow as tf\n",
        "# print(\"GPU available: \", tf.config.list_physical_devices('GPU'))"
      ],
      "metadata": {
        "colab": {
          "base_uri": "https://localhost:8080/"
        },
        "id": "4tMQlqq2O8VO",
        "outputId": "946309ed-b16b-4470-ac9e-bbceae8b5a2d"
      },
      "execution_count": 5,
      "outputs": [
        {
          "output_type": "stream",
          "name": "stdout",
          "text": [
            "GPU available:  []\n"
          ]
        }
      ]
    }
  ],
  "metadata": {
    "colab": {
      "provenance": [],
      "collapsed_sections": [
        "zxU8fB5P3vFo",
        "GGtL5ewb30XX",
        "IIwQIdwc9HlX",
        "l7JDIOFlNYkQ",
        "cizqc5Rkb3km",
        "8wZ3KJ60cD4O",
        "D0JAGJtFcG87",
        "9E9bRozK4gpj"
      ]
    },
    "kernelspec": {
      "display_name": "Python 3",
      "name": "python3"
    },
    "language_info": {
      "name": "python"
    }
  },
  "nbformat": 4,
  "nbformat_minor": 0
}